{
 "cells": [
  {
   "cell_type": "markdown",
   "metadata": {},
   "source": [
    "# Biostat 257 Homework 4 - Solutions\n",
    "\n",
    "John Baierl\n",
    "\n",
    "**Due May 20 @ 11:59PM**"
   ]
  },
  {
   "cell_type": "code",
   "execution_count": 3,
   "metadata": {},
   "outputs": [
    {
     "name": "stdout",
     "output_type": "stream",
     "text": [
      "Julia Version 1.7.2\n",
      "Commit bf53498635 (2022-02-06 15:21 UTC)\n",
      "Platform Info:\n",
      "  OS: macOS (arm64-apple-darwin21.2.0)\n",
      "  CPU: Apple M1\n",
      "  WORD_SIZE: 64\n",
      "  LIBM: libopenlibm\n",
      "  LLVM: libLLVM-12.0.1 (ORCJIT, cyclone)\n"
     ]
    }
   ],
   "source": [
    "versioninfo()"
   ]
  },
  {
   "cell_type": "markdown",
   "metadata": {},
   "source": [
    "We are going to try different numerical methods learnt in class on the [Google PageRank problem](https://en.wikipedia.org/wiki/PageRank)."
   ]
  },
  {
   "cell_type": "markdown",
   "metadata": {},
   "source": [
    "## Q1 (5 pts) Recognize structure\n",
    "\n",
    "Let $\\mathbf{A} \\in \\{0,1\\}^{n \\times n}$ be the connectivity matrix of $n$ web pages with entries\n",
    "$$\n",
    "\\begin{eqnarray*}\n",
    "\ta_{ij}= \\begin{cases}\n",
    "\t1 & \\text{if page $i$ links to page $j$} \\\\\n",
    "\t0 & \\text{otherwise}\n",
    "\t\\end{cases}.\n",
    "\\end{eqnarray*}\n",
    "$$\n",
    "$r_i = \\sum_j a_{ij}$ is the out-degree of page $i$. That is $r_i$ is the number of links on page $i$. Imagine a random surfer exploring the space of $n$ pages according to the following rules.  \n",
    "\n",
    "- From a page $i$ with $r_i>0$\n",
    "    * with probability $p$, (s)he randomly chooses a link on page $i$ (uniformly) and follows that link to the next page  \n",
    "    * with probability $1-p$, (s)he randomly chooses one page from the set of all $n$ pages (uniformly) and proceeds to that page  \n",
    "- From a page $i$ with $r_i=0$ (a dangling page), (s)he randomly chooses one page from the set of all $n$ pages (uniformly) and proceeds to that page  \n",
    "    \n",
    "The process defines a Markov chain on the space of $n$ pages. Write the transition matrix $\\mathbf{P}$ of the Markov chain as a sparse matrix plus rank 1 matrix."
   ]
  },
  {
   "cell_type": "markdown",
   "metadata": {},
   "source": [
    "#### Solution:"
   ]
  },
  {
   "cell_type": "markdown",
   "metadata": {},
   "source": [
    "The probability for any paricular element of the transition matrix $\\mathbf{P}$ is given by:\n",
    "\n",
    "$p_{ij} = \n",
    "\\begin{cases} \n",
    "      p \\frac{a_{ij}}{r_i} + (1 - p) \\frac{1}{n} & r_i > 0 \\\\\n",
    "      \\frac{1}{n} & r_i = 0\n",
    "\\end{cases}\n",
    "$"
   ]
  },
  {
   "cell_type": "markdown",
   "metadata": {},
   "source": [
    "Converting this to matrix notation, we can express the full transition matrix $\\mathbf{P}$ as:\n",
    "\n",
    "$\\mathbf{P} = \\textrm{diag}(\\mathbf{d})\\mathbf{A} + \\mathbf{b} \\mathbf{1}^T_n$\n",
    "\n",
    "where $\\mathbf{b} \\in \\mathbb{R}^{n}$, $b_i = \n",
    "\\begin{cases} \n",
    "      (1 - p) \\frac{1}{n} & r_i > 0 \\\\\n",
    "      \\frac{1}{n} & r_i = 0\n",
    "\\end{cases}$\n",
    "\n",
    "and $\\mathbf{d} \\in \\mathbb{R}^n$, $d_i = \n",
    "\\begin{cases} \n",
    "      \\frac{p}{r_i} & r_i > 0 \\\\\n",
    "      0 & r_i = 0\n",
    "\\end{cases}$\n",
    "\n",
    "The sparsity pattern of the first term matches the sparsity of $\\mathbf{A}$, while the second term is a rank one matrix."
   ]
  },
  {
   "cell_type": "markdown",
   "metadata": {},
   "source": [
    "## Q2 Relate to numerical linear algebra\n",
    "\n",
    "According to standard Markov chain theory, the (random) position of the surfer converges to the stationary distribution $\\mathbf{x} = (x_1,\\ldots,x_n)^T$ of the Markov chain. $x_i$ has the natural interpretation of the proportion of times the surfer visits page $i$ in the long run. Therefore $\\mathbf{x}$ serves as page ranks: a higher $x_i$ means page $i$ is more visited. It is well-known that $\\mathbf{x}$ is the left eigenvector corresponding to the top eigenvalue 1 of the transition matrix $\\mathbf{P}$. That is $\\mathbf{P}^T \\mathbf{x} = \\mathbf{x}$. Therefore $\\mathbf{x}$ can be solved as an **eigen-problem**. It can also be cast as **solving a linear system**. Since the row sums of $\\mathbf{P}$ are 1, $\\mathbf{P}$ is rank deficient. We can replace the first equation by the $\\sum_{i=1}^n x_i = 1$.\n",
    "\n",
    "Hint: For iterative solvers, we don't need to replace the 1st equation. We can use the matrix $\\mathbf{I} - \\mathbf{P}^T$ directly if we start with a vector with all positive entries."
   ]
  },
  {
   "cell_type": "markdown",
   "metadata": {},
   "source": [
    "## Q3 (10 pts) Explore data\n",
    "\n",
    "Obtain the connectivity matrix `A` from the `SNAP/web-Google` data in the MatrixDepot package. "
   ]
  },
  {
   "cell_type": "code",
   "execution_count": 4,
   "metadata": {},
   "outputs": [
    {
     "name": "stderr",
     "output_type": "stream",
     "text": [
      "┌ Info: verify download of index files...\n",
      "└ @ MatrixDepot /Users/johnbaierl/.julia/packages/MatrixDepot/GEDc3/src/MatrixDepot.jl:139\n",
      "┌ Info: reading database\n",
      "└ @ MatrixDepot /Users/johnbaierl/.julia/packages/MatrixDepot/GEDc3/src/download.jl:23\n",
      "┌ Info: adding metadata...\n",
      "└ @ MatrixDepot /Users/johnbaierl/.julia/packages/MatrixDepot/GEDc3/src/download.jl:67\n",
      "┌ Info: adding svd data...\n",
      "└ @ MatrixDepot /Users/johnbaierl/.julia/packages/MatrixDepot/GEDc3/src/download.jl:69\n",
      "┌ Info: writing database\n",
      "└ @ MatrixDepot /Users/johnbaierl/.julia/packages/MatrixDepot/GEDc3/src/download.jl:74\n",
      "┌ Info: used remote sites are sparse.tamu.edu with MAT index and math.nist.gov with HTML index\n",
      "└ @ MatrixDepot /Users/johnbaierl/.julia/packages/MatrixDepot/GEDc3/src/MatrixDepot.jl:141\n"
     ]
    },
    {
     "data": {
      "text/latex": [
       "\\section{SNAP/web-Google}\n",
       "\\subsubparagraph{MatrixMarket matrix coordinate pattern general}\n",
       "\\rule{\\textwidth}{1pt}\n",
       "\\begin{itemize}\n",
       "\\item UF Sparse Matrix Collection, Tim Davis\n",
       "\n",
       "\n",
       "\\item http://www.cise.ufl.edu/research/sparse/matrices/SNAP/web-Google\n",
       "\n",
       "\n",
       "\\item name: SNAP/web-Google\n",
       "\n",
       "\n",
       "\\item [Web graph from Google]\n",
       "\n",
       "\n",
       "\\item id: 2301\n",
       "\n",
       "\n",
       "\\item date: 2002\n",
       "\n",
       "\n",
       "\\item author: Google\n",
       "\n",
       "\n",
       "\\item ed: J. Leskovec\n",
       "\n",
       "\n",
       "\\item fields: name title A id date author ed kind notes\n",
       "\n",
       "\n",
       "\\item kind: directed graph\n",
       "\n",
       "\\end{itemize}\n",
       "\\rule{\\textwidth}{1pt}\n",
       "\\begin{itemize}\n",
       "\\item notes:\n",
       "\n",
       "\n",
       "\\item Networks from SNAP (Stanford Network Analysis Platform) Network Data Sets,     \n",
       "\n",
       "\n",
       "\\item Jure Leskovec http://snap.stanford.edu/data/index.html                         \n",
       "\n",
       "\n",
       "\\item email jure at cs.stanford.edu                                                  \n",
       "\n",
       "\n",
       "\\item \n",
       "\\item Google web graph                                                               \n",
       "\n",
       "\n",
       "\\item \n",
       "\\item Dataset information                                                            \n",
       "\n",
       "\n",
       "\\item \n",
       "\\item Nodes represent web pages and directed edges represent hyperlinks between them.\n",
       "\n",
       "\n",
       "\\item The data was released in 2002 by Google as a part of Google Programming        \n",
       "\n",
       "\n",
       "\\item Contest.                                                                       \n",
       "\n",
       "\n",
       "\\item \n",
       "\\item Dataset statistics                                                             \n",
       "\n",
       "\n",
       "\\item Nodes   875713                                                                 \n",
       "\n",
       "\n",
       "\\item Edges   5105039                                                                \n",
       "\n",
       "\n",
       "\\item Nodes in largest WCC    855802 (0.977)                                         \n",
       "\n",
       "\n",
       "\\item Edges in largest WCC    5066842 (0.993)                                        \n",
       "\n",
       "\n",
       "\\item Nodes in largest SCC    434818 (0.497)                                         \n",
       "\n",
       "\n",
       "\\item Edges in largest SCC    3419124 (0.670)                                        \n",
       "\n",
       "\n",
       "\\item Average clustering coefficient  0.6047                                         \n",
       "\n",
       "\n",
       "\\item Number of triangles     13391903                                               \n",
       "\n",
       "\n",
       "\\item Fraction of closed triangles    0.05523                                        \n",
       "\n",
       "\n",
       "\\item Diameter (longest shortest path)    22                                         \n",
       "\n",
       "\n",
       "\\item 90-percentile effective diameter    8.1                                        \n",
       "\n",
       "\n",
       "\\item \n",
       "\\item Source (citation)                                                              \n",
       "\n",
       "\n",
       "\\item \n",
       "\\item J. Leskovec, K. Lang, A. Dasgupta, M. Mahoney. Community Structure in Large    \n",
       "\n",
       "\n",
       "\\item Networks: Natural Cluster Sizes and the Absence of Large Well-Defined Clusters.\n",
       "\n",
       "\n",
       "\\item arXiv.org:0810.1355, 2008.                                                     \n",
       "\n",
       "\n",
       "\\item \n",
       "\\item Google programming contest, 2002                                               \n",
       "\n",
       "\n",
       "\\item http://www.google.com/programming-contest/                                     \n",
       "\n",
       "\n",
       "\\item \n",
       "\\item Files                                                                          \n",
       "\n",
       "\n",
       "\\item File    Description                                                            \n",
       "\n",
       "\n",
       "\\item web-Google.txt.gz   Webgraph from the Google programming contest, 2002         \n",
       "\n",
       "\\end{itemize}\n",
       "\\rule{\\textwidth}{1pt}\n",
       "916428 916428 5105039\n",
       "\n"
      ],
      "text/markdown": [
       "# SNAP/web-Google\n",
       "\n",
       "###### MatrixMarket matrix coordinate pattern general\n",
       "\n",
       "---\n",
       "\n",
       "  * UF Sparse Matrix Collection, Tim Davis\n",
       "  * http://www.cise.ufl.edu/research/sparse/matrices/SNAP/web-Google\n",
       "  * name: SNAP/web-Google\n",
       "  * [Web graph from Google]\n",
       "  * id: 2301\n",
       "  * date: 2002\n",
       "  * author: Google\n",
       "  * ed: J. Leskovec\n",
       "  * fields: name title A id date author ed kind notes\n",
       "  * kind: directed graph\n",
       "\n",
       "---\n",
       "\n",
       "  * notes:\n",
       "  * Networks from SNAP (Stanford Network Analysis Platform) Network Data Sets,\n",
       "  * Jure Leskovec http://snap.stanford.edu/data/index.html\n",
       "  * email jure at cs.stanford.edu\n",
       "  * \n",
       "  * Google web graph\n",
       "  * \n",
       "  * Dataset information\n",
       "  * \n",
       "  * Nodes represent web pages and directed edges represent hyperlinks between them.\n",
       "  * The data was released in 2002 by Google as a part of Google Programming\n",
       "  * Contest.\n",
       "  * \n",
       "  * Dataset statistics\n",
       "  * Nodes   875713\n",
       "  * Edges   5105039\n",
       "  * Nodes in largest WCC    855802 (0.977)\n",
       "  * Edges in largest WCC    5066842 (0.993)\n",
       "  * Nodes in largest SCC    434818 (0.497)\n",
       "  * Edges in largest SCC    3419124 (0.670)\n",
       "  * Average clustering coefficient  0.6047\n",
       "  * Number of triangles     13391903\n",
       "  * Fraction of closed triangles    0.05523\n",
       "  * Diameter (longest shortest path)    22\n",
       "  * 90-percentile effective diameter    8.1\n",
       "  * \n",
       "  * Source (citation)\n",
       "  * \n",
       "  * J. Leskovec, K. Lang, A. Dasgupta, M. Mahoney. Community Structure in Large\n",
       "  * Networks: Natural Cluster Sizes and the Absence of Large Well-Defined Clusters.\n",
       "  * arXiv.org:0810.1355, 2008.\n",
       "  * \n",
       "  * Google programming contest, 2002\n",
       "  * http://www.google.com/programming-contest/\n",
       "  * \n",
       "  * Files\n",
       "  * File    Description\n",
       "  * web-Google.txt.gz   Webgraph from the Google programming contest, 2002\n",
       "\n",
       "---\n",
       "\n",
       "916428 916428 5105039\n"
      ],
      "text/plain": [
       "\u001b[1m  SNAP/web-Google\u001b[22m\n",
       "\u001b[1m  ≡≡≡≡≡≡≡≡≡≡≡≡≡≡≡≡≡\u001b[22m\n",
       "\n",
       "\u001b[1m  MatrixMarket matrix coordinate pattern general\u001b[22m\n",
       "\n",
       "  ────────────────────────────────────────────────────────────────────────────\n",
       "\n",
       "    •  UF Sparse Matrix Collection, Tim Davis\n",
       "\n",
       "    •  http://www.cise.ufl.edu/research/sparse/matrices/SNAP/web-Google\n",
       "\n",
       "    •  name: SNAP/web-Google\n",
       "\n",
       "    •  [Web graph from Google]\n",
       "\n",
       "    •  id: 2301\n",
       "\n",
       "    •  date: 2002\n",
       "\n",
       "    •  author: Google\n",
       "\n",
       "    •  ed: J. Leskovec\n",
       "\n",
       "    •  fields: name title A id date author ed kind notes\n",
       "\n",
       "    •  kind: directed graph\n",
       "\n",
       "  ────────────────────────────────────────────────────────────────────────────\n",
       "\n",
       "    •  notes:\n",
       "\n",
       "    •  Networks from SNAP (Stanford Network Analysis Platform) Network\n",
       "       Data Sets,\n",
       "\n",
       "    •  Jure Leskovec http://snap.stanford.edu/data/index.html\n",
       "\n",
       "    •  email jure at cs.stanford.edu\n",
       "\n",
       "    •  \n",
       "\n",
       "    •  Google web graph\n",
       "\n",
       "    •  \n",
       "\n",
       "    •  Dataset information\n",
       "\n",
       "    •  \n",
       "\n",
       "    •  Nodes represent web pages and directed edges represent hyperlinks\n",
       "       between them.\n",
       "\n",
       "    •  The data was released in 2002 by Google as a part of Google\n",
       "       Programming\n",
       "\n",
       "    •  Contest.\n",
       "\n",
       "    •  \n",
       "\n",
       "    •  Dataset statistics\n",
       "\n",
       "    •  Nodes 875713\n",
       "\n",
       "    •  Edges 5105039\n",
       "\n",
       "    •  Nodes in largest WCC 855802 (0.977)\n",
       "\n",
       "    •  Edges in largest WCC 5066842 (0.993)\n",
       "\n",
       "    •  Nodes in largest SCC 434818 (0.497)\n",
       "\n",
       "    •  Edges in largest SCC 3419124 (0.670)\n",
       "\n",
       "    •  Average clustering coefficient 0.6047\n",
       "\n",
       "    •  Number of triangles 13391903\n",
       "\n",
       "    •  Fraction of closed triangles 0.05523\n",
       "\n",
       "    •  Diameter (longest shortest path) 22\n",
       "\n",
       "    •  90-percentile effective diameter 8.1\n",
       "\n",
       "    •  \n",
       "\n",
       "    •  Source (citation)\n",
       "\n",
       "    •  \n",
       "\n",
       "    •  J. Leskovec, K. Lang, A. Dasgupta, M. Mahoney. Community Structure\n",
       "       in Large\n",
       "\n",
       "    •  Networks: Natural Cluster Sizes and the Absence of Large\n",
       "       Well-Defined Clusters.\n",
       "\n",
       "    •  arXiv.org:0810.1355, 2008.\n",
       "\n",
       "    •  \n",
       "\n",
       "    •  Google programming contest, 2002\n",
       "\n",
       "    •  http://www.google.com/programming-contest/\n",
       "\n",
       "    •  \n",
       "\n",
       "    •  Files\n",
       "\n",
       "    •  File Description\n",
       "\n",
       "    •  web-Google.txt.gz Webgraph from the Google programming contest,\n",
       "       2002\n",
       "\n",
       "  ────────────────────────────────────────────────────────────────────────────\n",
       "\n",
       "  916428 916428 5105039"
      ]
     },
     "execution_count": 4,
     "metadata": {},
     "output_type": "execute_result"
    }
   ],
   "source": [
    "using MatrixDepot\n",
    "\n",
    "md = mdopen(\"SNAP/web-Google\")\n",
    "# display documentation for the SNAP/web-Google data\n",
    "mdinfo(md)"
   ]
  },
  {
   "cell_type": "code",
   "execution_count": 5,
   "metadata": {},
   "outputs": [
    {
     "data": {
      "text/plain": [
       "916428×916428 SparseArrays.SparseMatrixCSC{Bool, Int64} with 5105039 stored entries:\n",
       "⣿⣿⣿⣿⣿⣿⣿⣿⣿⣿⣿⣿⣿⣿⣿⣿⣿⣿⣿⣿⣿⣿⣿⣿⣿⣿⣿⣿⣿⣿⣿⣿⣿⣿⣿⣿⣿⣿⣿⣿\n",
       "⣿⣿⣿⣿⣿⣿⣿⣿⣿⣿⣿⣿⣿⣿⣿⣿⣿⣿⣿⣿⣿⣿⣿⣿⣿⣿⣿⣿⣿⣿⣿⣿⣿⣿⣿⣿⣿⣿⣿⣿\n",
       "⣿⣿⣿⣿⣿⣿⣿⣿⣿⣿⣿⣿⣿⣿⣿⣿⣿⣿⣿⣿⣿⣿⣿⣿⣿⣿⣿⣿⣿⣿⣿⣿⣿⣿⣿⣿⣿⣿⣿⣿\n",
       "⣿⣿⣿⣿⣿⣿⣿⣿⣿⣿⣿⣿⣿⣿⣿⣿⣿⣿⣿⣿⣿⣿⣿⣿⣿⣿⣿⣿⣿⣿⣿⣿⣿⣿⣿⣿⣿⣿⣿⣿\n",
       "⣿⣿⣿⣿⣿⣿⣿⣿⣿⣿⣿⣿⣿⣿⣿⣿⣿⣿⣿⣿⣿⣿⣿⣿⣿⣿⣿⣿⣿⣿⣿⣿⣿⣿⣿⣿⣿⣿⣿⣿\n",
       "⣿⣿⣿⣿⣿⣿⣿⣿⣿⣿⣿⣿⣿⣿⣿⣿⣿⣿⣿⣿⣿⣿⣿⣿⣿⣿⣿⣿⣿⣿⣿⣿⣿⣿⣿⣿⣿⣿⣿⣿\n",
       "⣿⣿⣿⣿⣿⣿⣿⣿⣿⣿⣿⣿⣿⣿⣿⣿⣿⣿⣿⣿⣿⣿⣿⣿⣿⣿⣿⣿⣿⣿⣿⣿⣿⣿⣿⣿⣿⣿⣿⣿\n",
       "⣿⣿⣿⣿⣿⣿⣿⣿⣿⣿⣿⣿⣿⣿⣿⣿⣿⣿⣿⣿⣿⣿⣿⣿⣿⣿⣿⣿⣿⣿⣿⣿⣿⣿⣿⣿⣿⣿⣿⣿\n",
       "⣿⣿⣿⣿⣿⣿⣿⣿⣿⣿⣿⣿⣿⣿⣿⣿⣿⣿⣿⣿⣿⣿⣿⣿⣿⣿⣿⣿⣿⣿⣿⣿⣿⣿⣿⣿⣿⣿⣿⣿\n",
       "⣿⣿⣿⣿⣿⣿⣿⣿⣿⣿⣿⣿⣿⣿⣿⣿⣿⣿⣿⣿⣿⣿⣿⣿⣿⣿⣿⣿⣿⣿⣿⣿⣿⣿⣿⣿⣿⣿⣿⣿\n",
       "⣿⣿⣿⣿⣿⣿⣿⣿⣿⣿⣿⣿⣿⣿⣿⣿⣿⣿⣿⣿⣿⣿⣿⣿⣿⣿⣿⣿⣿⣿⣿⣿⣿⣿⣿⣿⣿⣿⣿⣿\n",
       "⣿⣿⣿⣿⣿⣿⣿⣿⣿⣿⣿⣿⣿⣿⣿⣿⣿⣿⣿⣿⣿⣿⣿⣿⣿⣿⣿⣿⣿⣿⣿⣿⣿⣿⣿⣿⣿⣿⣿⣿\n",
       "⣿⣿⣿⣿⣿⣿⣿⣿⣿⣿⣿⣿⣿⣿⣿⣿⣿⣿⣿⣿⣿⣿⣿⣿⣿⣿⣿⣿⣿⣿⣿⣿⣿⣿⣿⣿⣿⣿⣿⣿\n",
       "⣿⣿⣿⣿⣿⣿⣿⣿⣿⣿⣿⣿⣿⣿⣿⣿⣿⣿⣿⣿⣿⣿⣿⣿⣿⣿⣿⣿⣿⣿⣿⣿⣿⣿⣿⣿⣿⣿⣿⣿\n",
       "⣿⣿⣿⣿⣿⣿⣿⣿⣿⣿⣿⣿⣿⣿⣿⣿⣿⣿⣿⣿⣿⣿⣿⣿⣿⣿⣿⣿⣿⣿⣿⣿⣿⣿⣿⣿⣿⣿⣿⣿\n",
       "⣿⣿⣿⣿⣿⣿⣿⣿⣿⣿⣿⣿⣿⣿⣿⣿⣿⣿⣿⣿⣿⣿⣿⣿⣿⣿⣿⣿⣿⣿⣿⣿⣿⣿⣿⣿⣿⣿⣿⣿\n",
       "⣿⣿⣿⣿⣿⣿⣿⣿⣿⣿⣿⣿⣿⣿⣿⣿⣿⣿⣿⣿⣿⣿⣿⣿⣿⣿⣿⣿⣿⣿⣿⣿⣿⣿⣿⣿⣿⣿⣿⣿\n",
       "⣿⣿⣿⣿⣿⣿⣿⣿⣿⣿⣿⣿⣿⣿⣿⣿⣿⣿⣿⣿⣿⣿⣿⣿⣿⣿⣿⣿⣿⣿⣿⣿⣿⣿⣿⣿⣿⣿⣿⣿\n",
       "⣿⣿⣿⣿⣿⣿⣿⣿⣿⣿⣿⣿⣿⣿⣿⣿⣿⣿⣿⣿⣿⣿⣿⣿⣿⣿⣿⣿⣿⣿⣿⣿⣿⣿⣿⣿⣿⣿⣿⣿\n",
       "⣿⣿⣿⣿⣿⣿⣿⣿⣿⣿⣿⣿⣿⣿⣿⣿⣿⣿⣿⣿⣿⣿⣿⣿⣿⣿⣿⣿⣿⣿⣿⣿⣿⣿⣿⣿⣿⣿⣿⣿"
      ]
     },
     "execution_count": 5,
     "metadata": {},
     "output_type": "execute_result"
    }
   ],
   "source": [
    "# connectivity matrix\n",
    "A = md.A"
   ]
  },
  {
   "cell_type": "markdown",
   "metadata": {},
   "source": [
    "Compute summary statistics:\n",
    "* How much memory does `A` take? If converted to a `Matrix{Float64}` (don't do it!), how much memory will it take?  \n",
    "* number of web pages\n",
    "* number of edges (web links). \n",
    "* number of dangling nodes (pages with no out links)\n",
    "* histogram of in-degrees  \n",
    "* list the top 20 pages with the largest in-degrees?  \n",
    "* histogram of out-degrees\n",
    "* which the top 20 pages with the largest out-degrees?\n",
    "* visualize the sparsity pattern of $\\mathbf{A}$ or a submatrix of $\\mathbf{A}$ say `A[1:10000, 1:10000]`. \n",
    "\n",
    "**Hint**: For plots, you can use the [UnicodePlots.jl](https://github.com/Evizero/UnicodePlots.jl) package (`spy`, `histogram`, etc), which is fast for large data. "
   ]
  },
  {
   "cell_type": "markdown",
   "metadata": {},
   "source": [
    "#### Solution:"
   ]
  },
  {
   "cell_type": "markdown",
   "metadata": {},
   "source": [
    "**a)** How much memory does `A` take? If converted to a `Matrix{Float64}` (don't do it!), how much memory will it take?"
   ]
  },
  {
   "cell_type": "code",
   "execution_count": 6,
   "metadata": {},
   "outputs": [
    {
     "data": {
      "text/plain": [
       "53276943"
      ]
     },
     "execution_count": 6,
     "metadata": {},
     "output_type": "execute_result"
    }
   ],
   "source": [
    "Base.summarysize(A) #size of A in bytes"
   ]
  },
  {
   "cell_type": "markdown",
   "metadata": {},
   "source": [
    "The sparse array A takes up 53,276,943 bytes, or approximately 53.3 MB of memory.\n",
    "\n",
    "A reasonable approximation of the size of $A$ if converted to a dense matrix can be obtained by scaling this value based on the sparsity of $A$."
   ]
  },
  {
   "cell_type": "code",
   "execution_count": 7,
   "metadata": {},
   "outputs": [
    {
     "data": {
      "text/plain": [
       "8.764697523993461e12"
      ]
     },
     "execution_count": 7,
     "metadata": {},
     "output_type": "execute_result"
    }
   ],
   "source": [
    "sparsity = 5105039 / 916428^2;\n",
    "\n",
    "53276943 / sparsity"
   ]
  },
  {
   "cell_type": "markdown",
   "metadata": {},
   "source": [
    "We should expect a dense version of $A$ to take about 8.76 TB of storage!"
   ]
  },
  {
   "cell_type": "markdown",
   "metadata": {},
   "source": [
    "**b)** Number of web pages"
   ]
  },
  {
   "cell_type": "markdown",
   "metadata": {},
   "source": [
    "The number of webpages in this simulated internet is equivalent to the number of rows (or columns) the square matrix $A$.  So there are 916,428 total web pages."
   ]
  },
  {
   "cell_type": "markdown",
   "metadata": {},
   "source": [
    "**c)** Number of edges (web links)"
   ]
  },
  {
   "cell_type": "markdown",
   "metadata": {},
   "source": [
    "There are 5,105,039 nonzero elements of $\\mathbf{A}$.  This corresponds with the total number of links in this miniature internet."
   ]
  },
  {
   "cell_type": "markdown",
   "metadata": {},
   "source": [
    "**d)** Number of dangling nodes (pages with no out links)"
   ]
  },
  {
   "cell_type": "markdown",
   "metadata": {},
   "source": [
    "This is equivalent to the number of rows that have no non-zero elements."
   ]
  },
  {
   "cell_type": "code",
   "execution_count": 8,
   "metadata": {},
   "outputs": [
    {
     "data": {
      "text/plain": [
       "176974"
      ]
     },
     "execution_count": 8,
     "metadata": {},
     "output_type": "execute_result"
    }
   ],
   "source": [
    "using StatsBase\n",
    "\n",
    "rowsums = sum(A, dims = 2);\n",
    "c = counts(rowsums)[1]"
   ]
  },
  {
   "cell_type": "markdown",
   "metadata": {},
   "source": [
    "176,974 pages have no out links."
   ]
  },
  {
   "cell_type": "markdown",
   "metadata": {},
   "source": [
    "**e)** Histogram of in-degrees"
   ]
  },
  {
   "cell_type": "code",
   "execution_count": 9,
   "metadata": {},
   "outputs": [
    {
     "data": {
      "text/plain": [
       "                    \u001b[38;5;8m┌                                        ┐\u001b[0m \n",
       "   [   0.0,  200.0) \u001b[38;5;8m┤\u001b[0m\u001b[38;5;2m████████████████████████████████\u001b[0m\u001b[38;5;2m \u001b[0m 915169\u001b[38;5;8m \u001b[0m \u001b[38;5;8m\u001b[0m\n",
       "   [ 200.0,  400.0) \u001b[38;5;8m┤\u001b[0m\u001b[38;5;2m███████████████\u001b[0m\u001b[38;5;2m▋\u001b[0m 812                    \u001b[38;5;8m \u001b[0m \u001b[38;5;8m\u001b[0m\n",
       "   [ 400.0,  600.0) \u001b[38;5;8m┤\u001b[0m\u001b[38;5;2m████████████\u001b[0m\u001b[38;5;2m▍\u001b[0m 203                       \u001b[38;5;8m \u001b[0m \u001b[38;5;8m\u001b[0m\n",
       "   [ 600.0,  800.0) \u001b[38;5;8m┤\u001b[0m\u001b[38;5;2m██████████\u001b[0m\u001b[38;5;2m▎\u001b[0m 80                          \u001b[38;5;8m \u001b[0m \u001b[38;5;8m\u001b[0m\n",
       "   [ 800.0, 1000.0) \u001b[38;5;8m┤\u001b[0m\u001b[38;5;2m███████\u001b[0m\u001b[38;5;2m▉\u001b[0m 30                             \u001b[38;5;8m \u001b[0m \u001b[38;5;8m\u001b[0m\n",
       "   [1000.0, 1200.0) \u001b[38;5;8m┤\u001b[0m\u001b[38;5;2m██████\u001b[0m\u001b[38;5;2m▊\u001b[0m 19                              \u001b[38;5;8m \u001b[0m \u001b[38;5;8m\u001b[0m\n",
       "   [1200.0, 1400.0) \u001b[38;5;8m┤\u001b[0m\u001b[38;5;2m█████\u001b[0m\u001b[38;5;2m▊\u001b[0m 12                               \u001b[38;5;8m \u001b[0m \u001b[38;5;8m\u001b[0m\n",
       "   [1400.0, 1600.0) \u001b[38;5;8m┤\u001b[0m\u001b[38;5;2m████\u001b[0m\u001b[38;5;2m▎\u001b[0m 6                                 \u001b[38;5;8m \u001b[0m \u001b[38;5;8m\u001b[0m\n",
       "   [1600.0, 1800.0) \u001b[38;5;8m┤\u001b[0m\u001b[38;5;2m████\u001b[0m\u001b[38;5;2m▎\u001b[0m 6                                 \u001b[38;5;8m \u001b[0m \u001b[38;5;8m\u001b[0m\n",
       "   [1800.0, 2000.0) \u001b[38;5;8m┤\u001b[0m\u001b[38;5;2m█████\u001b[0m\u001b[38;5;2m▎\u001b[0m 9                                \u001b[38;5;8m \u001b[0m \u001b[38;5;8m\u001b[0m\n",
       "   [2000.0, 2200.0) \u001b[38;5;8m┤\u001b[0m\u001b[38;5;2m████\u001b[0m\u001b[38;5;2m▊\u001b[0m 8                                 \u001b[38;5;8m \u001b[0m \u001b[38;5;8m\u001b[0m\n",
       "   [2200.0, 2400.0) \u001b[38;5;8m┤\u001b[0m\u001b[38;5;2m███\u001b[0m\u001b[38;5;2m▎\u001b[0m 4                                  \u001b[38;5;8m \u001b[0m \u001b[38;5;8m\u001b[0m\n",
       "   [2400.0, 2600.0) \u001b[38;5;8m┤\u001b[0m\u001b[38;5;2m████\u001b[0m\u001b[38;5;2m▌\u001b[0m 7                                 \u001b[38;5;8m \u001b[0m \u001b[38;5;8m\u001b[0m\n",
       "   [2600.0, 2800.0) \u001b[38;5;8m┤\u001b[0m\u001b[38;5;2m█████\u001b[0m\u001b[38;5;2m▋\u001b[0m 11                               \u001b[38;5;8m \u001b[0m \u001b[38;5;8m\u001b[0m\n",
       "   [2800.0, 3000.0) \u001b[38;5;8m┤\u001b[0m\u001b[38;5;2m████\u001b[0m\u001b[38;5;2m▎\u001b[0m 6                                 \u001b[38;5;8m \u001b[0m \u001b[38;5;8m\u001b[0m\n",
       "   [3000.0, 3200.0) \u001b[38;5;8m┤\u001b[0m\u001b[38;5;2m█████\u001b[0m\u001b[38;5;2m▎\u001b[0m 9                                \u001b[38;5;8m \u001b[0m \u001b[38;5;8m\u001b[0m\n",
       "   [3200.0, 3400.0) \u001b[38;5;8m┤\u001b[0m\u001b[38;5;2m████\u001b[0m\u001b[38;5;2m▊\u001b[0m 8                                 \u001b[38;5;8m \u001b[0m \u001b[38;5;8m\u001b[0m\n",
       "   [3400.0, 3600.0) \u001b[38;5;8m┤\u001b[0m\u001b[38;5;2m██\u001b[0m\u001b[38;5;2m▌\u001b[0m 3                                   \u001b[38;5;8m \u001b[0m \u001b[38;5;8m\u001b[0m\n",
       "   [3600.0, 3800.0) \u001b[38;5;8m┤\u001b[0m\u001b[38;5;2m\u001b[0m\u001b[38;5;2m \u001b[0m 1                                     \u001b[38;5;8m \u001b[0m \u001b[38;5;8m\u001b[0m\n",
       "   [3800.0, 4000.0) \u001b[38;5;8m┤\u001b[0m\u001b[38;5;2m████\u001b[0m\u001b[38;5;2m▌\u001b[0m 7                                 \u001b[38;5;8m \u001b[0m \u001b[38;5;8m\u001b[0m\n",
       "   [4000.0, 4200.0) \u001b[38;5;8m┤\u001b[0m\u001b[38;5;2m███\u001b[0m\u001b[38;5;2m▊\u001b[0m 5                                  \u001b[38;5;8m \u001b[0m \u001b[38;5;8m\u001b[0m\n",
       "   [4200.0, 4400.0) \u001b[38;5;8m┤\u001b[0m\u001b[38;5;2m██\u001b[0m\u001b[38;5;2m▌\u001b[0m 3                                   \u001b[38;5;8m \u001b[0m \u001b[38;5;8m\u001b[0m\n",
       "   [4400.0, 4600.0) \u001b[38;5;8m┤\u001b[0m\u001b[38;5;2m█\u001b[0m\u001b[38;5;2m▋\u001b[0m 2                                    \u001b[38;5;8m \u001b[0m \u001b[38;5;8m\u001b[0m\n",
       "   [4600.0, 4800.0) \u001b[38;5;8m┤\u001b[0m\u001b[38;5;2m█\u001b[0m\u001b[38;5;2m▋\u001b[0m 2                                    \u001b[38;5;8m \u001b[0m \u001b[38;5;8m\u001b[0m\n",
       "   [4800.0, 5000.0) \u001b[38;5;8m┤\u001b[0m\u001b[38;5;2m\u001b[0m\u001b[38;5;2m \u001b[0m 1                                     \u001b[38;5;8m \u001b[0m \u001b[38;5;8m\u001b[0m\n",
       "   [5000.0, 5200.0) \u001b[38;5;8m┤\u001b[0m\u001b[38;5;2m█\u001b[0m\u001b[38;5;2m▋\u001b[0m 2                                    \u001b[38;5;8m \u001b[0m \u001b[38;5;8m\u001b[0m\n",
       "   [5200.0, 5400.0) \u001b[38;5;8m┤\u001b[0m\u001b[38;5;2m█\u001b[0m\u001b[38;5;2m▋\u001b[0m 2                                    \u001b[38;5;8m \u001b[0m \u001b[38;5;8m\u001b[0m\n",
       "   [5400.0, 5600.0) \u001b[38;5;8m┤\u001b[0m\u001b[38;5;2m\u001b[0m\u001b[38;5;2m \u001b[0m 0                                     \u001b[38;5;8m \u001b[0m \u001b[38;5;8m\u001b[0m\n",
       "   [5600.0, 5800.0) \u001b[38;5;8m┤\u001b[0m\u001b[38;5;2m\u001b[0m\u001b[38;5;2m \u001b[0m 0                                     \u001b[38;5;8m \u001b[0m \u001b[38;5;8m\u001b[0m\n",
       "   [5800.0, 6000.0) \u001b[38;5;8m┤\u001b[0m\u001b[38;5;2m\u001b[0m\u001b[38;5;2m \u001b[0m 0                                     \u001b[38;5;8m \u001b[0m \u001b[38;5;8m\u001b[0m\n",
       "   [6000.0, 6200.0) \u001b[38;5;8m┤\u001b[0m\u001b[38;5;2m\u001b[0m\u001b[38;5;2m \u001b[0m 0                                     \u001b[38;5;8m \u001b[0m \u001b[38;5;8m\u001b[0m\n",
       "   [6200.0, 6400.0) \u001b[38;5;8m┤\u001b[0m\u001b[38;5;2m\u001b[0m\u001b[38;5;2m \u001b[0m 1                                     \u001b[38;5;8m \u001b[0m \u001b[38;5;8m\u001b[0m\n",
       "                    \u001b[38;5;8m└                                        ┘\u001b[0m \n",
       "                                 Frequency [log10]             "
      ]
     },
     "execution_count": 9,
     "metadata": {},
     "output_type": "execute_result"
    }
   ],
   "source": [
    "using UnicodePlots\n",
    "\n",
    "colsums = sum(A, dims = 1);\n",
    "histogram(colsums, xscale =:log10, nbins = 52) #log scale for better visibility"
   ]
  },
  {
   "cell_type": "markdown",
   "metadata": {},
   "source": [
    "This plot shows that while the vast majority of sites have relatively few in-degrees (< 200), a small number of sites weild dramatically more influecnce over the flow of internet traffic, with as many as 27x more in-degrees as the smallest bin.  This motivates the Markov chain PageRank approch as opposed to simply counting links."
   ]
  },
  {
   "cell_type": "markdown",
   "metadata": {},
   "source": [
    "**f)** List the top 20 pages with the largest in-degrees? "
   ]
  },
  {
   "cell_type": "code",
   "execution_count": 10,
   "metadata": {},
   "outputs": [
    {
     "data": {
      "text/plain": [
       "20-element Vector{Tuple{Int64, Int64}}:\n",
       " (687326, 3956)\n",
       " (173977, 3988)\n",
       " (384667, 4010)\n",
       " (765335, 4015)\n",
       " (213433, 4084)\n",
       " (407611, 4180)\n",
       " (459075, 4187)\n",
       " (558792, 4206)\n",
       " (41910, 4219)\n",
       " (551830, 4220)\n",
       " (828964, 4484)\n",
       " (605857, 4550)\n",
       " (819224, 4620)\n",
       " (163076, 4731)\n",
       " (885606, 4847)\n",
       " (32164, 5097)\n",
       " (751385, 5182)\n",
       " (504141, 5271)\n",
       " (597622, 5354)\n",
       " (537040, 6326)"
      ]
     },
     "execution_count": 10,
     "metadata": {},
     "output_type": "execute_result"
    }
   ],
   "source": [
    "colsums = vec(colsums);\n",
    "b = sortperm(colsums);\n",
    "\n",
    "rank_indeg = collect(zip(b, colsums[b]));\n",
    "rank_indeg[(length(rank_indeg) - 19):length(rank_indeg)]"
   ]
  },
  {
   "cell_type": "markdown",
   "metadata": {},
   "source": [
    "The first value in each pair above gives the webpage number, and the second gives the number of in-degrees for that page."
   ]
  },
  {
   "cell_type": "markdown",
   "metadata": {},
   "source": [
    "**g)** Histogram of out-degrees"
   ]
  },
  {
   "cell_type": "code",
   "execution_count": 11,
   "metadata": {},
   "outputs": [
    {
     "data": {
      "text/plain": [
       "                  \u001b[38;5;8m┌                                        ┐\u001b[0m \n",
       "   [  0.0,  10.0) \u001b[38;5;8m┤\u001b[0m\u001b[38;5;2m████████████████████████████████\u001b[0m\u001b[38;5;2m \u001b[0m 715808\u001b[38;5;8m \u001b[0m \u001b[38;5;8m\u001b[0m\n",
       "   [ 10.0,  20.0) \u001b[38;5;8m┤\u001b[0m\u001b[38;5;2m████████████████████████████\u001b[0m\u001b[38;5;2m▋\u001b[0m 175990    \u001b[38;5;8m \u001b[0m \u001b[38;5;8m\u001b[0m\n",
       "   [ 20.0,  30.0) \u001b[38;5;8m┤\u001b[0m\u001b[38;5;2m███████████████████████\u001b[0m\u001b[38;5;2m▌\u001b[0m 20314          \u001b[38;5;8m \u001b[0m \u001b[38;5;8m\u001b[0m\n",
       "   [ 30.0,  40.0) \u001b[38;5;8m┤\u001b[0m\u001b[38;5;2m██████████████████\u001b[0m\u001b[38;5;2m▍\u001b[0m 2314                \u001b[38;5;8m \u001b[0m \u001b[38;5;8m\u001b[0m\n",
       "   [ 40.0,  50.0) \u001b[38;5;8m┤\u001b[0m\u001b[38;5;2m████████████████\u001b[0m\u001b[38;5;2m▎\u001b[0m 908                   \u001b[38;5;8m \u001b[0m \u001b[38;5;8m\u001b[0m\n",
       "   [ 50.0,  60.0) \u001b[38;5;8m┤\u001b[0m\u001b[38;5;2m██████████████\u001b[0m\u001b[38;5;2m▍\u001b[0m 421                     \u001b[38;5;8m \u001b[0m \u001b[38;5;8m\u001b[0m\n",
       "   [ 60.0,  70.0) \u001b[38;5;8m┤\u001b[0m\u001b[38;5;2m████████████\u001b[0m\u001b[38;5;2m▊\u001b[0m 219                       \u001b[38;5;8m \u001b[0m \u001b[38;5;8m\u001b[0m\n",
       "   [ 70.0,  80.0) \u001b[38;5;8m┤\u001b[0m\u001b[38;5;2m███████████\u001b[0m\u001b[38;5;2m▉\u001b[0m 152                        \u001b[38;5;8m \u001b[0m \u001b[38;5;8m\u001b[0m\n",
       "   [ 80.0,  90.0) \u001b[38;5;8m┤\u001b[0m\u001b[38;5;2m██████████\u001b[0m\u001b[38;5;2m▎\u001b[0m 71                          \u001b[38;5;8m \u001b[0m \u001b[38;5;8m\u001b[0m\n",
       "   [ 90.0, 100.0) \u001b[38;5;8m┤\u001b[0m\u001b[38;5;2m█████████\u001b[0m\u001b[38;5;2m▌\u001b[0m 53                           \u001b[38;5;8m \u001b[0m \u001b[38;5;8m\u001b[0m\n",
       "   [100.0, 110.0) \u001b[38;5;8m┤\u001b[0m\u001b[38;5;2m█████████\u001b[0m\u001b[38;5;2m▎\u001b[0m 48                           \u001b[38;5;8m \u001b[0m \u001b[38;5;8m\u001b[0m\n",
       "   [110.0, 120.0) \u001b[38;5;8m┤\u001b[0m\u001b[38;5;2m████████\u001b[0m\u001b[38;5;2m▋\u001b[0m 38                            \u001b[38;5;8m \u001b[0m \u001b[38;5;8m\u001b[0m\n",
       "   [120.0, 130.0) \u001b[38;5;8m┤\u001b[0m\u001b[38;5;2m██████\u001b[0m\u001b[38;5;2m▋\u001b[0m 17                              \u001b[38;5;8m \u001b[0m \u001b[38;5;8m\u001b[0m\n",
       "   [130.0, 140.0) \u001b[38;5;8m┤\u001b[0m\u001b[38;5;2m█████\u001b[0m\u001b[38;5;2m▊\u001b[0m 12                               \u001b[38;5;8m \u001b[0m \u001b[38;5;8m\u001b[0m\n",
       "   [140.0, 150.0) \u001b[38;5;8m┤\u001b[0m\u001b[38;5;2m█████\u001b[0m\u001b[38;5;2m▊\u001b[0m 12                               \u001b[38;5;8m \u001b[0m \u001b[38;5;8m\u001b[0m\n",
       "   [150.0, 160.0) \u001b[38;5;8m┤\u001b[0m\u001b[38;5;2m██\u001b[0m\u001b[38;5;2m▋\u001b[0m 3                                   \u001b[38;5;8m \u001b[0m \u001b[38;5;8m\u001b[0m\n",
       "   [160.0, 170.0) \u001b[38;5;8m┤\u001b[0m\u001b[38;5;2m███\u001b[0m\u001b[38;5;2m▍\u001b[0m 4                                  \u001b[38;5;8m \u001b[0m \u001b[38;5;8m\u001b[0m\n",
       "   [170.0, 180.0) \u001b[38;5;8m┤\u001b[0m\u001b[38;5;2m█████\u001b[0m\u001b[38;5;2m▋\u001b[0m 11                               \u001b[38;5;8m \u001b[0m \u001b[38;5;8m\u001b[0m\n",
       "   [180.0, 190.0) \u001b[38;5;8m┤\u001b[0m\u001b[38;5;2m██\u001b[0m\u001b[38;5;2m▋\u001b[0m 3                                   \u001b[38;5;8m \u001b[0m \u001b[38;5;8m\u001b[0m\n",
       "   [190.0, 200.0) \u001b[38;5;8m┤\u001b[0m\u001b[38;5;2m███\u001b[0m\u001b[38;5;2m▊\u001b[0m 5                                  \u001b[38;5;8m \u001b[0m \u001b[38;5;8m\u001b[0m\n",
       "   [200.0, 210.0) \u001b[38;5;8m┤\u001b[0m\u001b[38;5;2m███\u001b[0m\u001b[38;5;2m▍\u001b[0m 4                                  \u001b[38;5;8m \u001b[0m \u001b[38;5;8m\u001b[0m\n",
       "   [210.0, 220.0) \u001b[38;5;8m┤\u001b[0m\u001b[38;5;2m██\u001b[0m\u001b[38;5;2m▋\u001b[0m 3                                   \u001b[38;5;8m \u001b[0m \u001b[38;5;8m\u001b[0m\n",
       "   [220.0, 230.0) \u001b[38;5;8m┤\u001b[0m\u001b[38;5;2m█\u001b[0m\u001b[38;5;2m▋\u001b[0m 2                                    \u001b[38;5;8m \u001b[0m \u001b[38;5;8m\u001b[0m\n",
       "   [230.0, 240.0) \u001b[38;5;8m┤\u001b[0m\u001b[38;5;2m\u001b[0m\u001b[38;5;2m \u001b[0m 1                                     \u001b[38;5;8m \u001b[0m \u001b[38;5;8m\u001b[0m\n",
       "   [240.0, 250.0) \u001b[38;5;8m┤\u001b[0m\u001b[38;5;2m███\u001b[0m\u001b[38;5;2m▍\u001b[0m 4                                  \u001b[38;5;8m \u001b[0m \u001b[38;5;8m\u001b[0m\n",
       "   [250.0, 260.0) \u001b[38;5;8m┤\u001b[0m\u001b[38;5;2m███\u001b[0m\u001b[38;5;2m▍\u001b[0m 4                                  \u001b[38;5;8m \u001b[0m \u001b[38;5;8m\u001b[0m\n",
       "   [260.0, 270.0) \u001b[38;5;8m┤\u001b[0m\u001b[38;5;2m█\u001b[0m\u001b[38;5;2m▋\u001b[0m 2                                    \u001b[38;5;8m \u001b[0m \u001b[38;5;8m\u001b[0m\n",
       "   [270.0, 280.0) \u001b[38;5;8m┤\u001b[0m\u001b[38;5;2m\u001b[0m\u001b[38;5;2m \u001b[0m 1                                     \u001b[38;5;8m \u001b[0m \u001b[38;5;8m\u001b[0m\n",
       "   [280.0, 290.0) \u001b[38;5;8m┤\u001b[0m\u001b[38;5;2m\u001b[0m\u001b[38;5;2m \u001b[0m 0                                     \u001b[38;5;8m \u001b[0m \u001b[38;5;8m\u001b[0m\n",
       "   [290.0, 300.0) \u001b[38;5;8m┤\u001b[0m\u001b[38;5;2m\u001b[0m\u001b[38;5;2m \u001b[0m 0                                     \u001b[38;5;8m \u001b[0m \u001b[38;5;8m\u001b[0m\n",
       "   [300.0, 310.0) \u001b[38;5;8m┤\u001b[0m\u001b[38;5;2m\u001b[0m\u001b[38;5;2m \u001b[0m 0                                     \u001b[38;5;8m \u001b[0m \u001b[38;5;8m\u001b[0m\n",
       "   [310.0, 320.0) \u001b[38;5;8m┤\u001b[0m\u001b[38;5;2m\u001b[0m\u001b[38;5;2m \u001b[0m 0                                     \u001b[38;5;8m \u001b[0m \u001b[38;5;8m\u001b[0m\n",
       "   [320.0, 330.0) \u001b[38;5;8m┤\u001b[0m\u001b[38;5;2m\u001b[0m\u001b[38;5;2m \u001b[0m 0                                     \u001b[38;5;8m \u001b[0m \u001b[38;5;8m\u001b[0m\n",
       "   [330.0, 340.0) \u001b[38;5;8m┤\u001b[0m\u001b[38;5;2m\u001b[0m\u001b[38;5;2m \u001b[0m 1                                     \u001b[38;5;8m \u001b[0m \u001b[38;5;8m\u001b[0m\n",
       "   [340.0, 350.0) \u001b[38;5;8m┤\u001b[0m\u001b[38;5;2m\u001b[0m\u001b[38;5;2m \u001b[0m 0                                     \u001b[38;5;8m \u001b[0m \u001b[38;5;8m\u001b[0m\n",
       "   [350.0, 360.0) \u001b[38;5;8m┤\u001b[0m\u001b[38;5;2m\u001b[0m\u001b[38;5;2m \u001b[0m 0                                     \u001b[38;5;8m \u001b[0m \u001b[38;5;8m\u001b[0m\n",
       "   [360.0, 370.0) \u001b[38;5;8m┤\u001b[0m\u001b[38;5;2m\u001b[0m\u001b[38;5;2m \u001b[0m 0                                     \u001b[38;5;8m \u001b[0m \u001b[38;5;8m\u001b[0m\n",
       "   [370.0, 380.0) \u001b[38;5;8m┤\u001b[0m\u001b[38;5;2m█\u001b[0m\u001b[38;5;2m▋\u001b[0m 2                                    \u001b[38;5;8m \u001b[0m \u001b[38;5;8m\u001b[0m\n",
       "   [380.0, 390.0) \u001b[38;5;8m┤\u001b[0m\u001b[38;5;2m\u001b[0m\u001b[38;5;2m \u001b[0m 0                                     \u001b[38;5;8m \u001b[0m \u001b[38;5;8m\u001b[0m\n",
       "   [390.0, 400.0) \u001b[38;5;8m┤\u001b[0m\u001b[38;5;2m\u001b[0m\u001b[38;5;2m \u001b[0m 0                                     \u001b[38;5;8m \u001b[0m \u001b[38;5;8m\u001b[0m\n",
       "   [400.0, 410.0) \u001b[38;5;8m┤\u001b[0m\u001b[38;5;2m\u001b[0m\u001b[38;5;2m \u001b[0m 0                                     \u001b[38;5;8m \u001b[0m \u001b[38;5;8m\u001b[0m\n",
       "   [410.0, 420.0) \u001b[38;5;8m┤\u001b[0m\u001b[38;5;2m\u001b[0m\u001b[38;5;2m \u001b[0m 0                                     \u001b[38;5;8m \u001b[0m \u001b[38;5;8m\u001b[0m\n",
       "   [420.0, 430.0) \u001b[38;5;8m┤\u001b[0m\u001b[38;5;2m\u001b[0m\u001b[38;5;2m \u001b[0m 0                                     \u001b[38;5;8m \u001b[0m \u001b[38;5;8m\u001b[0m\n",
       "   [430.0, 440.0) \u001b[38;5;8m┤\u001b[0m\u001b[38;5;2m\u001b[0m\u001b[38;5;2m \u001b[0m 0                                     \u001b[38;5;8m \u001b[0m \u001b[38;5;8m\u001b[0m\n",
       "   [440.0, 450.0) \u001b[38;5;8m┤\u001b[0m\u001b[38;5;2m\u001b[0m\u001b[38;5;2m \u001b[0m 0                                     \u001b[38;5;8m \u001b[0m \u001b[38;5;8m\u001b[0m\n",
       "   [450.0, 460.0) \u001b[38;5;8m┤\u001b[0m\u001b[38;5;2m\u001b[0m\u001b[38;5;2m \u001b[0m 1                                     \u001b[38;5;8m \u001b[0m \u001b[38;5;8m\u001b[0m\n",
       "                  \u001b[38;5;8m└                                        ┘\u001b[0m \n",
       "                               Frequency [log10]             "
      ]
     },
     "execution_count": 11,
     "metadata": {},
     "output_type": "execute_result"
    }
   ],
   "source": [
    "histogram(rowsums, xscale =:log10, nbins = 52) #log scale for better visibility"
   ]
  },
  {
   "cell_type": "markdown",
   "metadata": {},
   "source": [
    "Interestingly, the out-degree distribution shows less variability overall with a less extreme rightward (or in this above plot, downward) skew.  So, there is less variation in the number of out-degree links than the number of in-degree links in this miniature internet."
   ]
  },
  {
   "cell_type": "markdown",
   "metadata": {},
   "source": [
    "**h)** Which the top 20 pages with the largest out-degrees?"
   ]
  },
  {
   "cell_type": "code",
   "execution_count": 12,
   "metadata": {},
   "outputs": [
    {
     "data": {
      "text/plain": [
       "20-element Vector{Tuple{Int64, Int64}}:\n",
       " (915274, 213)\n",
       " (302734, 216)\n",
       " (838279, 225)\n",
       " (321092, 229)\n",
       " (411594, 231)\n",
       " (579315, 244)\n",
       " (598189, 245)\n",
       " (282141, 247)\n",
       " (685696, 248)\n",
       " (667585, 253)\n",
       " (885729, 256)\n",
       " (156951, 257)\n",
       " (376429, 258)\n",
       " (600480, 265)\n",
       " (412411, 268)\n",
       " (808644, 277)\n",
       " (768092, 330)\n",
       " (203749, 372)\n",
       " (305230, 372)\n",
       " (506743, 456)"
      ]
     },
     "execution_count": 12,
     "metadata": {},
     "output_type": "execute_result"
    }
   ],
   "source": [
    "rowsums = vec(rowsums);\n",
    "c = sortperm(rowsums);\n",
    "\n",
    "rank_outdeg = collect(zip(c, rowsums[c]));\n",
    "rank_outdeg[(length(rank_outdeg) - 19):length(rank_outdeg)]"
   ]
  },
  {
   "cell_type": "markdown",
   "metadata": {},
   "source": [
    "Once again, the first value in each pair gives the webpage number, and the second gives the total number of out-degrees for that page."
   ]
  },
  {
   "cell_type": "markdown",
   "metadata": {},
   "source": [
    "**i)** Visualize the sparsity pattern of $\\mathbf{A}$ or a submatrix of $\\mathbf{A}$ say `A[1:10000, 1:10000]`."
   ]
  },
  {
   "cell_type": "code",
   "execution_count": 13,
   "metadata": {},
   "outputs": [
    {
     "data": {
      "text/plain": [
       "         ⠀⠀⠀⠀⠀⠀⠀⠀⠀⠀⠀⠀⠀⠀\u001b[97;1mSparsity Pattern\u001b[0m⠀⠀⠀⠀⠀⠀⠀⠀⠀⠀⠀⠀⠀⠀    \n",
       "         \u001b[38;5;8m┌──────────────────────────────────────────┐\u001b[0m    \n",
       "       \u001b[38;5;8m1\u001b[0m \u001b[38;5;8m│\u001b[0m⠀⠀⠀⠀⠀⠀⠀\u001b[38;5;1m⠂\u001b[0m⠀⠀⠀⠀\u001b[38;5;1m⢀\u001b[0m\u001b[38;5;1m⢂\u001b[0m\u001b[38;5;1m⡂\u001b[0m\u001b[38;5;1m⠐\u001b[0m⠀⠀⠀\u001b[38;5;1m⠠\u001b[0m⠀⠀⠀\u001b[38;5;1m⠔\u001b[0m\u001b[38;5;1m⠄\u001b[0m⠀\u001b[38;5;1m⠈\u001b[0m\u001b[38;5;1m⢀\u001b[0m⠀⠀\u001b[38;5;1m⠉\u001b[0m⠀⠀\u001b[38;5;1m⠁\u001b[0m⠀⠀\u001b[38;5;1m⠐\u001b[0m⠀\u001b[38;5;1m⠄\u001b[0m⠀\u001b[38;5;1m⠐\u001b[0m⠀\u001b[38;5;8m│\u001b[0m \u001b[38;5;1m> 0\u001b[0m\n",
       "        \u001b[38;5;8m\u001b[0m \u001b[38;5;8m│\u001b[0m⠀⠀⠀⠀⠀\u001b[38;5;1m⠂\u001b[0m\u001b[38;5;1m⡂\u001b[0m⠀\u001b[38;5;1m⠄\u001b[0m\u001b[38;5;1m⠄\u001b[0m\u001b[38;5;1m⠈\u001b[0m\u001b[38;5;1m⠈\u001b[0m\u001b[38;5;1m⡔\u001b[0m⠀⠀\u001b[38;5;1m⠁\u001b[0m\u001b[38;5;1m⠂\u001b[0m⠀⠀⠀⠀\u001b[38;5;1m⠠\u001b[0m\u001b[38;5;1m⠁\u001b[0m\u001b[38;5;1m⠒\u001b[0m\u001b[38;5;1m⠁\u001b[0m⠀\u001b[38;5;1m⠄\u001b[0m⠀\u001b[38;5;1m⠐\u001b[0m⠀\u001b[38;5;1m⠈\u001b[0m⠀⠀\u001b[38;5;1m⡐\u001b[0m⠀⠀\u001b[38;5;1m⠠\u001b[0m⠀\u001b[38;5;1m⡀\u001b[0m⠀\u001b[38;5;1m⠉\u001b[0m⠀\u001b[38;5;8m│\u001b[0m \u001b[38;5;4m< 0\u001b[0m\n",
       "        \u001b[38;5;8m\u001b[0m \u001b[38;5;8m│\u001b[0m⠀\u001b[38;5;1m⠐\u001b[0m\u001b[38;5;1m⠠\u001b[0m⠀⠀\u001b[38;5;1m⠁\u001b[0m\u001b[38;5;1m⢐\u001b[0m\u001b[38;5;1m⠄\u001b[0m⠀\u001b[38;5;1m⠢\u001b[0m\u001b[38;5;1m⠠\u001b[0m⠀⠀\u001b[38;5;1m⡀\u001b[0m\u001b[38;5;1m⠈\u001b[0m⠀\u001b[38;5;1m⠋\u001b[0m⠀⠀⠀⠀⠀\u001b[38;5;1m⠂\u001b[0m\u001b[38;5;1m⡀\u001b[0m⠀\u001b[38;5;1m⠈\u001b[0m\u001b[38;5;1m⠄\u001b[0m⠀\u001b[38;5;1m⠄\u001b[0m\u001b[38;5;1m⠁\u001b[0m\u001b[38;5;1m⠈\u001b[0m⠀\u001b[38;5;1m⠠\u001b[0m⠀\u001b[38;5;1m⠰\u001b[0m⠀⠀⠀⠀\u001b[38;5;1m⢀\u001b[0m\u001b[38;5;1m⠆\u001b[0m⠀\u001b[38;5;8m│\u001b[0m \u001b[38;5;8m\u001b[0m   \n",
       "        \u001b[38;5;8m\u001b[0m \u001b[38;5;8m│\u001b[0m⠀\u001b[38;5;1m⠈\u001b[0m\u001b[38;5;1m⠠\u001b[0m\u001b[38;5;1m⠂\u001b[0m⠀\u001b[38;5;1m⠈\u001b[0m⠀\u001b[38;5;1m⡠\u001b[0m\u001b[38;5;1m⠐\u001b[0m⠀⠀⠀⠀⠀⠀⠀⠀⠀⠀\u001b[38;5;1m⡀\u001b[0m\u001b[38;5;1m⠈\u001b[0m\u001b[38;5;1m⠄\u001b[0m\u001b[38;5;1m⠁\u001b[0m\u001b[38;5;1m⢀\u001b[0m\u001b[38;5;1m⡀\u001b[0m\u001b[38;5;1m⠐\u001b[0m\u001b[38;5;1m⠄\u001b[0m\u001b[38;5;1m⠄\u001b[0m⠀⠀\u001b[38;5;1m⢀\u001b[0m⠀\u001b[38;5;1m⠈\u001b[0m\u001b[38;5;1m⠂\u001b[0m\u001b[38;5;1m⢠\u001b[0m⠀\u001b[38;5;1m⠢\u001b[0m\u001b[38;5;1m⠐\u001b[0m⠀⠀⠀\u001b[38;5;1m⡀\u001b[0m\u001b[38;5;8m│\u001b[0m \u001b[38;5;8m\u001b[0m   \n",
       "        \u001b[38;5;8m\u001b[0m \u001b[38;5;8m│\u001b[0m⠀⠀\u001b[38;5;1m⠐\u001b[0m\u001b[38;5;1m⡁\u001b[0m⠀\u001b[38;5;1m⡀\u001b[0m⠀⠀\u001b[38;5;1m⠠\u001b[0m⠀\u001b[38;5;1m⠁\u001b[0m⠀⠀⠀\u001b[38;5;1m⡄\u001b[0m⠀\u001b[38;5;1m⠈\u001b[0m\u001b[38;5;1m⠁\u001b[0m⠀⠀⠀⠀\u001b[38;5;1m⠠\u001b[0m\u001b[38;5;1m⠂\u001b[0m⠀⠀⠀⠀⠀\u001b[38;5;1m⠂\u001b[0m\u001b[38;5;1m⠪\u001b[0m⠀⠀\u001b[38;5;1m⠂\u001b[0m⠀⠀⠀\u001b[38;5;1m⠄\u001b[0m\u001b[38;5;1m⢀\u001b[0m⠀\u001b[38;5;1m⠁\u001b[0m⠀\u001b[38;5;8m│\u001b[0m \u001b[38;5;8m\u001b[0m   \n",
       "        \u001b[38;5;8m\u001b[0m \u001b[38;5;8m│\u001b[0m\u001b[38;5;1m⠂\u001b[0m\u001b[38;5;1m⢀\u001b[0m⠀\u001b[38;5;1m⠁\u001b[0m⠀⠀\u001b[38;5;1m⡀\u001b[0m\u001b[38;5;1m⡉\u001b[0m⠀⠀\u001b[38;5;1m⠠\u001b[0m\u001b[38;5;1m⠂\u001b[0m\u001b[38;5;1m⠐\u001b[0m\u001b[38;5;1m⢀\u001b[0m\u001b[38;5;1m⠄\u001b[0m\u001b[38;5;1m⠁\u001b[0m\u001b[38;5;1m⠐\u001b[0m⠀\u001b[38;5;1m⠈\u001b[0m⠀⠀⠀⠀⠀\u001b[38;5;1m⡀\u001b[0m\u001b[38;5;1m⠐\u001b[0m\u001b[38;5;1m⠁\u001b[0m\u001b[38;5;1m⡠\u001b[0m⠀\u001b[38;5;1m⠂\u001b[0m\u001b[38;5;1m⠚\u001b[0m⠀\u001b[38;5;1m⠁\u001b[0m⠀\u001b[38;5;1m⠐\u001b[0m\u001b[38;5;1m⢀\u001b[0m\u001b[38;5;1m⠆\u001b[0m⠀\u001b[38;5;1m⠈\u001b[0m\u001b[38;5;1m⠄\u001b[0m\u001b[38;5;1m⢀\u001b[0m\u001b[38;5;1m⠂\u001b[0m\u001b[38;5;8m│\u001b[0m \u001b[38;5;8m\u001b[0m   \n",
       "        \u001b[38;5;8m\u001b[0m \u001b[38;5;8m│\u001b[0m⠀⠀⠀\u001b[38;5;1m⠁\u001b[0m⠀\u001b[38;5;1m⡄\u001b[0m⠀⠀⠀⠀\u001b[38;5;1m⠒\u001b[0m⠀\u001b[38;5;1m⢄\u001b[0m\u001b[38;5;1m⠄\u001b[0m\u001b[38;5;1m⢂\u001b[0m⠀\u001b[38;5;1m⠂\u001b[0m⠀⠀\u001b[38;5;1m⠄\u001b[0m⠀\u001b[38;5;1m⢀\u001b[0m⠀\u001b[38;5;1m⠣\u001b[0m⠀\u001b[38;5;1m⢀\u001b[0m⠀⠀⠀⠀\u001b[38;5;1m⠠\u001b[0m\u001b[38;5;1m⡀\u001b[0m⠀⠀\u001b[38;5;1m⢠\u001b[0m\u001b[38;5;1m⠄\u001b[0m⠀\u001b[38;5;1m⡀\u001b[0m⠀\u001b[38;5;1m⠂\u001b[0m\u001b[38;5;1m⠂\u001b[0m⠀\u001b[38;5;8m│\u001b[0m \u001b[38;5;8m\u001b[0m   \n",
       "        \u001b[38;5;8m\u001b[0m \u001b[38;5;8m│\u001b[0m\u001b[38;5;1m⢀\u001b[0m\u001b[38;5;1m⠈\u001b[0m⠀⠀\u001b[38;5;1m⠂\u001b[0m⠀⠀\u001b[38;5;1m⠁\u001b[0m\u001b[38;5;1m⢠\u001b[0m\u001b[38;5;1m⠈\u001b[0m\u001b[38;5;1m⠄\u001b[0m\u001b[38;5;1m⠁\u001b[0m⠀⠀\u001b[38;5;1m⡈\u001b[0m\u001b[38;5;1m⠈\u001b[0m\u001b[38;5;1m⠠\u001b[0m⠀\u001b[38;5;1m⢀\u001b[0m\u001b[38;5;1m⡦\u001b[0m⠀⠀\u001b[38;5;1m⠅\u001b[0m\u001b[38;5;1m⠐\u001b[0m⠀\u001b[38;5;1m⠨\u001b[0m\u001b[38;5;1m⠁\u001b[0m\u001b[38;5;1m⠨\u001b[0m⠀\u001b[38;5;1m⠄\u001b[0m\u001b[38;5;1m⠠\u001b[0m\u001b[38;5;1m⢀\u001b[0m⠀\u001b[38;5;1m⠐\u001b[0m\u001b[38;5;1m⢐\u001b[0m⠀⠀\u001b[38;5;1m⠉\u001b[0m⠀⠀\u001b[38;5;1m⠠\u001b[0m\u001b[38;5;1m⠉\u001b[0m\u001b[38;5;8m│\u001b[0m \u001b[38;5;8m\u001b[0m   \n",
       "        \u001b[38;5;8m\u001b[0m \u001b[38;5;8m│\u001b[0m⠀⠀\u001b[38;5;1m⠨\u001b[0m⠀\u001b[38;5;1m⠋\u001b[0m⠀\u001b[38;5;1m⠄\u001b[0m⠀\u001b[38;5;1m⠂\u001b[0m⠀\u001b[38;5;1m⠈\u001b[0m⠀⠀⠀\u001b[38;5;1m⠈\u001b[0m⠀⠀⠀⠀\u001b[38;5;1m⡑\u001b[0m⠀\u001b[38;5;1m⢀\u001b[0m\u001b[38;5;1m⠈\u001b[0m\u001b[38;5;1m⠈\u001b[0m⠀⠀⠀\u001b[38;5;1m⠈\u001b[0m⠀\u001b[38;5;1m⠂\u001b[0m\u001b[38;5;1m⠐\u001b[0m\u001b[38;5;1m⠼\u001b[0m⠀\u001b[38;5;1m⠠\u001b[0m⠀⠀\u001b[38;5;1m⡈\u001b[0m\u001b[38;5;1m⠁\u001b[0m⠀⠀\u001b[38;5;1m⠡\u001b[0m\u001b[38;5;1m⠄\u001b[0m\u001b[38;5;8m│\u001b[0m \u001b[38;5;8m\u001b[0m   \n",
       "        \u001b[38;5;8m\u001b[0m \u001b[38;5;8m│\u001b[0m\u001b[38;5;1m⠠\u001b[0m\u001b[38;5;1m⡁\u001b[0m⠀⠀⠀⠀⠀⠀⠀⠀\u001b[38;5;1m⠂\u001b[0m\u001b[38;5;1m⢀\u001b[0m⠀⠀⠀\u001b[38;5;1m⡄\u001b[0m⠀⠀⠀\u001b[38;5;1m⠤\u001b[0m⠀⠀\u001b[38;5;1m⠁\u001b[0m⠀\u001b[38;5;1m⡂\u001b[0m⠀⠀⠀\u001b[38;5;1m⠄\u001b[0m⠀\u001b[38;5;1m⢈\u001b[0m⠀\u001b[38;5;1m⢔\u001b[0m\u001b[38;5;1m⡊\u001b[0m\u001b[38;5;1m⣨\u001b[0m\u001b[38;5;1m⠈\u001b[0m\u001b[38;5;1m⠂\u001b[0m⠀\u001b[38;5;1m⠄\u001b[0m\u001b[38;5;1m⢀\u001b[0m⠀⠀\u001b[38;5;8m│\u001b[0m \u001b[38;5;8m\u001b[0m   \n",
       "        \u001b[38;5;8m\u001b[0m \u001b[38;5;8m│\u001b[0m⠀\u001b[38;5;1m⠂\u001b[0m⠀\u001b[38;5;1m⠈\u001b[0m⠀⠀⠀⠀⠀⠀\u001b[38;5;1m⠈\u001b[0m⠀\u001b[38;5;1m⡀\u001b[0m⠀\u001b[38;5;1m⠂\u001b[0m\u001b[38;5;1m⠠\u001b[0m\u001b[38;5;1m⠐\u001b[0m⠀\u001b[38;5;1m⠄\u001b[0m⠀⠀⠀⠀⠀⠀\u001b[38;5;1m⠤\u001b[0m⠀⠀⠀\u001b[38;5;1m⠠\u001b[0m\u001b[38;5;1m⠘\u001b[0m\u001b[38;5;1m⠐\u001b[0m⠀\u001b[38;5;1m⠄\u001b[0m\u001b[38;5;1m⢘\u001b[0m⠀⠀\u001b[38;5;1m⢐\u001b[0m\u001b[38;5;1m⠄\u001b[0m⠀\u001b[38;5;1m⠁\u001b[0m⠀\u001b[38;5;8m│\u001b[0m \u001b[38;5;8m\u001b[0m   \n",
       "        \u001b[38;5;8m\u001b[0m \u001b[38;5;8m│\u001b[0m\u001b[38;5;1m⢀\u001b[0m\u001b[38;5;1m⠄\u001b[0m\u001b[38;5;1m⢠\u001b[0m\u001b[38;5;1m⠄\u001b[0m\u001b[38;5;1m⡊\u001b[0m\u001b[38;5;1m⠂\u001b[0m\u001b[38;5;1m⠢\u001b[0m\u001b[38;5;1m⢀\u001b[0m⠀⠀⠀⠀\u001b[38;5;1m⠄\u001b[0m\u001b[38;5;1m⡀\u001b[0m\u001b[38;5;1m⡑\u001b[0m⠀\u001b[38;5;1m⡐\u001b[0m⠀\u001b[38;5;1m⠁\u001b[0m\u001b[38;5;1m⡂\u001b[0m⠀⠀⠀\u001b[38;5;1m⠰\u001b[0m\u001b[38;5;1m⠂\u001b[0m\u001b[38;5;1m⢠\u001b[0m\u001b[38;5;1m⠄\u001b[0m\u001b[38;5;1m⠈\u001b[0m⠀\u001b[38;5;1m⠈\u001b[0m\u001b[38;5;1m⠐\u001b[0m⠀⠀⠀\u001b[38;5;1m⠉\u001b[0m⠀⠀\u001b[38;5;1m⡀\u001b[0m⠀⠀\u001b[38;5;1m⠃\u001b[0m⠀\u001b[38;5;8m│\u001b[0m \u001b[38;5;8m\u001b[0m   \n",
       "        \u001b[38;5;8m\u001b[0m \u001b[38;5;8m│\u001b[0m⠀⠀\u001b[38;5;1m⠅\u001b[0m⠀\u001b[38;5;1m⡁\u001b[0m⠀⠀⠀⠀⠀\u001b[38;5;1m⢁\u001b[0m\u001b[38;5;1m⢀\u001b[0m⠀\u001b[38;5;1m⡀\u001b[0m\u001b[38;5;1m⡀\u001b[0m\u001b[38;5;1m⡐\u001b[0m⠀⠀\u001b[38;5;1m⠈\u001b[0m\u001b[38;5;1m⠈\u001b[0m\u001b[38;5;1m⠔\u001b[0m\u001b[38;5;1m⠄\u001b[0m⠀⠀\u001b[38;5;1m⢀\u001b[0m⠀⠀⠀⠀⠀⠀⠀⠀\u001b[38;5;1m⠄\u001b[0m\u001b[38;5;1m⢉\u001b[0m\u001b[38;5;1m⠠\u001b[0m\u001b[38;5;1m⠁\u001b[0m⠀\u001b[38;5;1m⠁\u001b[0m⠀⠀⠀\u001b[38;5;8m│\u001b[0m \u001b[38;5;8m\u001b[0m   \n",
       "        \u001b[38;5;8m\u001b[0m \u001b[38;5;8m│\u001b[0m\u001b[38;5;1m⠊\u001b[0m\u001b[38;5;1m⢈\u001b[0m⠀\u001b[38;5;1m⠁\u001b[0m⠀⠀⠀\u001b[38;5;1m⠅\u001b[0m⠀\u001b[38;5;1m⠂\u001b[0m⠀\u001b[38;5;1m⡀\u001b[0m⠀⠀⠀⠀\u001b[38;5;1m⡀\u001b[0m⠀⠀\u001b[38;5;1m⠐\u001b[0m\u001b[38;5;1m⠄\u001b[0m\u001b[38;5;1m⠁\u001b[0m\u001b[38;5;1m⠠\u001b[0m⠀\u001b[38;5;1m⠐\u001b[0m\u001b[38;5;1m⠈\u001b[0m⠀⠀⠀\u001b[38;5;1m⡀\u001b[0m\u001b[38;5;1m⢠\u001b[0m⠀⠀⠀\u001b[38;5;1m⢰\u001b[0m⠀⠀⠀\u001b[38;5;1m⢀\u001b[0m⠀\u001b[38;5;1m⠠\u001b[0m\u001b[38;5;1m⠂\u001b[0m\u001b[38;5;8m│\u001b[0m \u001b[38;5;8m\u001b[0m   \n",
       "        \u001b[38;5;8m\u001b[0m \u001b[38;5;8m│\u001b[0m\u001b[38;5;1m⠈\u001b[0m⠀⠀\u001b[38;5;1m⠈\u001b[0m\u001b[38;5;1m⠄\u001b[0m⠀⠀\u001b[38;5;1m⠄\u001b[0m\u001b[38;5;1m⠐\u001b[0m⠀\u001b[38;5;1m⠠\u001b[0m\u001b[38;5;1m⠁\u001b[0m\u001b[38;5;1m⠁\u001b[0m⠀\u001b[38;5;1m⡂\u001b[0m⠀\u001b[38;5;1m⠠\u001b[0m\u001b[38;5;1m⠄\u001b[0m\u001b[38;5;1m⠌\u001b[0m\u001b[38;5;1m⠅\u001b[0m\u001b[38;5;1m⣀\u001b[0m⠀⠀\u001b[38;5;1m⢀\u001b[0m⠀\u001b[38;5;1m⠠\u001b[0m⠀\u001b[38;5;1m⠠\u001b[0m\u001b[38;5;1m⠠\u001b[0m⠀\u001b[38;5;1m⠲\u001b[0m\u001b[38;5;1m⢂\u001b[0m⠀\u001b[38;5;1m⠰\u001b[0m\u001b[38;5;1m⡄\u001b[0m⠀\u001b[38;5;1m⢀\u001b[0m\u001b[38;5;1m⠬\u001b[0m\u001b[38;5;1m⠈\u001b[0m⠀⠀⠀\u001b[38;5;8m│\u001b[0m \u001b[38;5;8m\u001b[0m   \n",
       "        \u001b[38;5;8m\u001b[0m \u001b[38;5;8m│\u001b[0m\u001b[38;5;1m⠈\u001b[0m⠀⠀\u001b[38;5;1m⠄\u001b[0m⠀⠀\u001b[38;5;1m⡀\u001b[0m\u001b[38;5;1m⠈\u001b[0m⠀⠀\u001b[38;5;1m⠙\u001b[0m⠀⠀⠀\u001b[38;5;1m⢀\u001b[0m\u001b[38;5;1m⢀\u001b[0m\u001b[38;5;1m⠂\u001b[0m⠀⠀\u001b[38;5;1m⡄\u001b[0m\u001b[38;5;1m⢀\u001b[0m⠀\u001b[38;5;1m⠠\u001b[0m⠀\u001b[38;5;1m⠂\u001b[0m⠀⠀\u001b[38;5;1m⠐\u001b[0m⠀⠀\u001b[38;5;1m⠸\u001b[0m⠀⠀⠀\u001b[38;5;1m⠈\u001b[0m\u001b[38;5;1m⠠\u001b[0m⠀\u001b[38;5;1m⠠\u001b[0m\u001b[38;5;1m⠁\u001b[0m⠀\u001b[38;5;1m⠂\u001b[0m⠀\u001b[38;5;8m│\u001b[0m \u001b[38;5;8m\u001b[0m   \n",
       "        \u001b[38;5;8m\u001b[0m \u001b[38;5;8m│\u001b[0m\u001b[38;5;1m⠄\u001b[0m⠀⠀⠀\u001b[38;5;1m⠄\u001b[0m\u001b[38;5;1m⠂\u001b[0m\u001b[38;5;1m⠂\u001b[0m⠀⠀⠀\u001b[38;5;1m⠡\u001b[0m\u001b[38;5;1m⠁\u001b[0m⠀\u001b[38;5;1m⢉\u001b[0m\u001b[38;5;1m⠄\u001b[0m⠀⠀⠀\u001b[38;5;1m⡐\u001b[0m\u001b[38;5;1m⠑\u001b[0m\u001b[38;5;1m⠂\u001b[0m\u001b[38;5;1m⠄\u001b[0m\u001b[38;5;1m⠂\u001b[0m⠀⠀⠀\u001b[38;5;1m⢀\u001b[0m⠀\u001b[38;5;1m⢀\u001b[0m⠀⠀⠀⠀\u001b[38;5;1m⠉\u001b[0m\u001b[38;5;1m⠠\u001b[0m\u001b[38;5;1m⠈\u001b[0m⠀\u001b[38;5;1m⠁\u001b[0m⠀⠀\u001b[38;5;1m⡀\u001b[0m\u001b[38;5;1m⠄\u001b[0m\u001b[38;5;8m│\u001b[0m \u001b[38;5;8m\u001b[0m   \n",
       "        \u001b[38;5;8m\u001b[0m \u001b[38;5;8m│\u001b[0m⠀⠀⠀⠀⠀⠀⠀⠀⠀⠀⠀\u001b[38;5;1m⠠\u001b[0m\u001b[38;5;1m⠂\u001b[0m⠀⠀\u001b[38;5;1m⠄\u001b[0m⠀⠀⠀⠀\u001b[38;5;1m⠐\u001b[0m\u001b[38;5;1m⡀\u001b[0m⠀⠀\u001b[38;5;1m⠁\u001b[0m⠀\u001b[38;5;1m⠐\u001b[0m⠀⠀⠀\u001b[38;5;1m⢰\u001b[0m\u001b[38;5;1m⡄\u001b[0m\u001b[38;5;1m⠁\u001b[0m⠀⠀\u001b[38;5;1m⠉\u001b[0m\u001b[38;5;1m⠠\u001b[0m⠀\u001b[38;5;1m⠠\u001b[0m⠀\u001b[38;5;1m⡀\u001b[0m⠀\u001b[38;5;8m│\u001b[0m \u001b[38;5;8m\u001b[0m   \n",
       "        \u001b[38;5;8m\u001b[0m \u001b[38;5;8m│\u001b[0m\u001b[38;5;1m⡁\u001b[0m\u001b[38;5;1m⠄\u001b[0m\u001b[38;5;1m⢀\u001b[0m\u001b[38;5;1m⠂\u001b[0m⠀\u001b[38;5;1m⠁\u001b[0m\u001b[38;5;1m⡈\u001b[0m\u001b[38;5;1m⠆\u001b[0m⠀\u001b[38;5;1m⠄\u001b[0m\u001b[38;5;1m⠁\u001b[0m\u001b[38;5;1m⠁\u001b[0m⠀\u001b[38;5;1m⠂\u001b[0m\u001b[38;5;1m⠁\u001b[0m⠀\u001b[38;5;1m⠂\u001b[0m\u001b[38;5;1m⢀\u001b[0m⠀⠀⠀⠀⠀⠀\u001b[38;5;1m⠁\u001b[0m⠀⠀\u001b[38;5;1m⡀\u001b[0m⠀\u001b[38;5;1m⠐\u001b[0m⠀⠀⠀⠀⠀⠀⠀\u001b[38;5;1m⢀\u001b[0m\u001b[38;5;1m⠄\u001b[0m\u001b[38;5;1m⠤\u001b[0m\u001b[38;5;1m⠁\u001b[0m\u001b[38;5;1m⠠\u001b[0m\u001b[38;5;8m│\u001b[0m \u001b[38;5;8m\u001b[0m   \n",
       "        \u001b[38;5;8m\u001b[0m \u001b[38;5;8m│\u001b[0m⠀\u001b[38;5;1m⠅\u001b[0m\u001b[38;5;1m⠄\u001b[0m\u001b[38;5;1m⠈\u001b[0m⠀\u001b[38;5;1m⢀\u001b[0m\u001b[38;5;1m⠂\u001b[0m\u001b[38;5;1m⠁\u001b[0m\u001b[38;5;1m⠐\u001b[0m⠀\u001b[38;5;1m⡠\u001b[0m\u001b[38;5;1m⠄\u001b[0m⠀\u001b[38;5;1m⠄\u001b[0m\u001b[38;5;1m⠐\u001b[0m⠀⠀⠀⠀\u001b[38;5;1m⡀\u001b[0m⠀\u001b[38;5;1m⠁\u001b[0m\u001b[38;5;1m⡢\u001b[0m⠀\u001b[38;5;1m⠙\u001b[0m⠀\u001b[38;5;1m⠇\u001b[0m⠀\u001b[38;5;1m⢂\u001b[0m⠀\u001b[38;5;1m⣠\u001b[0m⠀\u001b[38;5;1m⠂\u001b[0m⠀⠀\u001b[38;5;1m⠂\u001b[0m⠀\u001b[38;5;1m⠥\u001b[0m\u001b[38;5;1m⠄\u001b[0m\u001b[38;5;1m⢁\u001b[0m\u001b[38;5;1m⡀\u001b[0m\u001b[38;5;1m⡀\u001b[0m\u001b[38;5;8m│\u001b[0m \u001b[38;5;8m\u001b[0m   \n",
       "   \u001b[38;5;8m10000\u001b[0m \u001b[38;5;8m│\u001b[0m\u001b[38;5;1m⠘\u001b[0m⠀⠀⠀\u001b[38;5;1m⠈\u001b[0m\u001b[38;5;1m⠃\u001b[0m\u001b[38;5;1m⡁\u001b[0m\u001b[38;5;1m⠨\u001b[0m\u001b[38;5;1m⠁\u001b[0m\u001b[38;5;1m⠐\u001b[0m⠀⠀\u001b[38;5;1m⠈\u001b[0m\u001b[38;5;1m⠁\u001b[0m\u001b[38;5;1m⠄\u001b[0m⠀\u001b[38;5;1m⠁\u001b[0m⠀⠀\u001b[38;5;1m⠂\u001b[0m\u001b[38;5;1m⠁\u001b[0m\u001b[38;5;1m⢈\u001b[0m\u001b[38;5;1m⠁\u001b[0m⠀⠀\u001b[38;5;1m⡁\u001b[0m⠀⠀⠀\u001b[38;5;1m⢀\u001b[0m\u001b[38;5;1m⢰\u001b[0m⠀⠀\u001b[38;5;1m⠈\u001b[0m⠀\u001b[38;5;1m⠈\u001b[0m⠀⠀⠀⠀\u001b[38;5;1m⡂\u001b[0m⠀\u001b[38;5;8m│\u001b[0m \u001b[38;5;8m\u001b[0m   \n",
       "         \u001b[38;5;8m└──────────────────────────────────────────┘\u001b[0m    \n",
       "         ⠀\u001b[38;5;8m1\u001b[0m⠀⠀⠀⠀⠀⠀⠀⠀⠀⠀⠀⠀⠀⠀⠀⠀⠀⠀⠀\u001b[38;5;8m\u001b[0m⠀⠀⠀⠀⠀⠀⠀⠀⠀⠀⠀⠀⠀⠀⠀⠀⠀\u001b[38;5;8m10000\u001b[0m⠀    \n",
       "         ⠀⠀⠀⠀⠀⠀⠀⠀⠀⠀⠀⠀⠀⠀⠀⠀600 nonzeros⠀⠀⠀⠀⠀⠀⠀⠀⠀⠀⠀⠀⠀⠀⠀⠀    "
      ]
     },
     "execution_count": 13,
     "metadata": {},
     "output_type": "execute_result"
    }
   ],
   "source": [
    "@views Asub = A[1:10000, 1:10000];\n",
    "\n",
    "spy(Asub)"
   ]
  },
  {
   "cell_type": "markdown",
   "metadata": {},
   "source": [
    "## Q4 (5 pts) Dense linear algebra? \n",
    "\n",
    "Consider the following methods to obtain the page ranks of the `SNAP/web-Google` data. \n",
    "\n",
    "1. A dense linear system solver such as LU decomposition.  \n",
    "2. A dense eigen-solver for asymmetric matrix.  \n",
    "\n",
    "For the LU approach, estimate (1) the memory usage and (2) how long it will take assuming that the LAPACK functions can achieve the theoretical throughput of your computer. "
   ]
  },
  {
   "cell_type": "markdown",
   "metadata": {},
   "source": [
    "#### Solution:"
   ]
  },
  {
   "cell_type": "markdown",
   "metadata": {},
   "source": [
    "1. An LU decomposition for a dense matrix costs approximately $\\frac{2}{3}n^3$ flops.  The forward and backwards substitutions necessary to then solve the linear system cost $n^2 + n^2 = 2n^2$ flops.  So in total, LU decomposition to optain page ranks costs $\\frac{2}{3}n^3 + 2n^2$ flops.  The total flops for our 916,428 by 916,428 matrix, $\\mathbf{A}$ are:"
   ]
  },
  {
   "cell_type": "code",
   "execution_count": 14,
   "metadata": {},
   "outputs": [
    {
     "data": {
      "text/plain": [
       "5.131037779285815e17"
      ]
     },
     "execution_count": 14,
     "metadata": {},
     "output_type": "execute_result"
    }
   ],
   "source": [
    "flops = (2 / 3) * 916428^3 + 2 * 916428^2 #total flop count"
   ]
  },
  {
   "cell_type": "markdown",
   "metadata": {},
   "source": [
    "2. According to documentation, my computer (2021 MacBook Air) is capable of 2.6 teraflops per second of throughput.  Assuming this is fully achieved, we should expect this dense linear system solver to take:"
   ]
  },
  {
   "cell_type": "code",
   "execution_count": 15,
   "metadata": {},
   "outputs": [
    {
     "data": {
      "text/plain": [
       "2.2841158205510217"
      ]
     },
     "execution_count": 15,
     "metadata": {},
     "output_type": "execute_result"
    }
   ],
   "source": [
    "flops / 2.6e12 / 60 / 60 / 24 #converting from seconds to days"
   ]
  },
  {
   "cell_type": "markdown",
   "metadata": {},
   "source": [
    "An LU decomposition to solve this dense linear system should take at least 2.28 days."
   ]
  },
  {
   "cell_type": "markdown",
   "metadata": {},
   "source": [
    "## Q5 (75 pts) Iterative solvers\n",
    "\n",
    "Set the _teleportation_ parameter at $p = 0.85$. Consider the following methods for solving the PageRank problem. \n",
    "\n",
    "1. An iterative linear system solver such as GMRES. \n",
    "2. An iterative eigen-solver such as Arnoldi method.\n",
    "\n",
    "For iterative methods, we have many choices in Julia. See a list of existing Julia packages for linear solvers at this [page](https://jutho.github.io/KrylovKit.jl/stable/#Package-features-and-alternatives-1). The start-up code below uses the [KrylovKit.jl](https://github.com/Jutho/KrylovKit.jl) package. You can use other packages if you prefer. Make sure to utilize the special structure of $\\mathbf{P}$ (sparse + rank 1) to speed up the matrix-vector multiplication. "
   ]
  },
  {
   "cell_type": "markdown",
   "metadata": {},
   "source": [
    "### Step 1 (15 pts)\n",
    "\n",
    "Let's implement a type `PageRankImPt` that mimics the matrix $\\mathbf{M} = \\mathbf{I} - \\mathbf{P}^T$. For iterative methods, all we need to provide are methods for evaluating $\\mathbf{M} \\mathbf{v}$ and $\\mathbf{M}^T \\mathbf{v}$ for arbitrary vector $\\mathbf{v}$."
   ]
  },
  {
   "cell_type": "markdown",
   "metadata": {},
   "source": [
    "#### Solution:"
   ]
  },
  {
   "cell_type": "code",
   "execution_count": 49,
   "metadata": {},
   "outputs": [],
   "source": [
    "using BenchmarkTools, LinearAlgebra, SparseArrays, Revise\n",
    "\n",
    "# a type for the matrix M = I - P^T in PageRank problem, key: don't actually form dg!\n",
    "\n",
    "struct PageRankImPt{TA <: Number, IA <: Integer, T <: AbstractFloat} <: AbstractMatrix{T}\n",
    "    A         :: SparseMatrixCSC{TA, IA} # adjacency matrix, data\n",
    "    telep     :: T # parameter in pagerank algo\n",
    "    # working arrays\n",
    "    rowsum        :: Vector{Int64}\n",
    "    storage_n     :: Vector{T}\n",
    "    storage_n2    :: Vector{T}\n",
    "    b             :: Vector{T}\n",
    "    d             :: Vector{T}\n",
    "end\n",
    "\n",
    "# constructor\n",
    "function PageRankImPt(A::SparseMatrixCSC, telep::T) where T <: AbstractFloat\n",
    "    n = size(A, 1)\n",
    "\n",
    "    rowsum        = vec(sum(A, dims = 2))\n",
    "    storage_n     = Vector{T}(undef, n)\n",
    "    storage_n2    = Vector{T}(undef, n)\n",
    "    b             = Vector{T}(undef, n)\n",
    "    d             = Vector{T}(undef, n)\n",
    "    #Construct d with piecewise definition\n",
    "    for i in 1:n\n",
    "        if rowsum[i] == 0\n",
    "            d[i] = 0\n",
    "        else\n",
    "            d[i] = telep / rowsum[i]\n",
    "        end\n",
    "    end\n",
    "    #Construct vector b with piecewise definition\n",
    "    for i in 1:n\n",
    "        if rowsum[i] == 0\n",
    "            b[i] = 1 / n\n",
    "        else\n",
    "            b[i] = (1 - telep) / n\n",
    "        end\n",
    "    end\n",
    "    PageRankImPt(A, telep, rowsum, storage_n, storage_n2, b, d)\n",
    "end\n",
    "\n",
    "LinearAlgebra.issymmetric(::PageRankImPt) = false\n",
    "Base.size(M::PageRankImPt) = size(M.A)\n",
    "Base.getindex(M::PageRankImPt, i, j) = (i == j) - M.d[j] * M.A[j, i] - M.b[j]\n",
    "\n",
    "# overwrite `out` by `(I - Pt) * v`\n",
    "function LinearAlgebra.mul!(\n",
    "        out :: Vector{T}, \n",
    "        M   :: PageRankImPt{<:Number, <:Integer, T}, \n",
    "        v   :: Vector{T} # iterative solver keeps feeding v\n",
    "        ) where T <: AbstractFloat    \n",
    "    #Calculate A'diag(d)'v, store in storage_n2\n",
    "    M.storage_n2 .= M.d .* v\n",
    "    mul!(M.storage_n, transpose(M.A), M.storage_n2)\n",
    "    #Piece it all together\n",
    "    out .= v .- M.storage_n .- dot(M.b, v)\n",
    "    return out\n",
    "end\n",
    "\n",
    "# overwrite `out` by `(I - P) * v`\n",
    "function LinearAlgebra.mul!(\n",
    "        out :: Vector{T}, \n",
    "        Mt  :: Transpose{T, PageRankImPt{TA, IA, T}}, \n",
    "        v   :: Vector{T}\n",
    "        ) where {TA<:Number, IA<:Integer, T <: AbstractFloat}\n",
    "    M = Mt.parent\n",
    "    #Calculate diag(d)Av, store in storage_n\n",
    "    mul!(M.storage_n, M.A, v)\n",
    "    #Piece it all together\n",
    "    out .= v .- M.d .* M.storage_n .- sum(v) .* M.b\n",
    "    return out\n",
    "end"
   ]
  },
  {
   "cell_type": "markdown",
   "metadata": {},
   "source": [
    "To check correctness. Note \n",
    "$$\n",
    "\\mathbf{M}^T \\mathbf{1} = \\mathbf{0}\n",
    "$$\n",
    "and\n",
    "$$\n",
    "\\mathbf{M} \\mathbf{x} = \\mathbf{0}\n",
    "$$\n",
    "for stationary distribution $\\mathbf{x}$.\n",
    "\n",
    "Download the solution file `pgrksol.csv.gz`. **Do not put this file in your Git**. You will lose points if you do. You can add a line `pgrksol.csv.gz` to your `.gitignore` file."
   ]
  },
  {
   "cell_type": "code",
   "execution_count": 50,
   "metadata": {
    "tags": []
   },
   "outputs": [
    {
     "data": {
      "text/plain": [
       "916428-element Vector{Float64}:\n",
       " 3.3783428216975054e-5\n",
       " 2.0710155392568165e-6\n",
       " 3.663065984832893e-6\n",
       " 7.527510785028837e-7\n",
       " 8.63328599674051e-7\n",
       " 1.769418252415541e-6\n",
       " 2.431230382883396e-7\n",
       " 6.368417180141445e-7\n",
       " 4.744973703681939e-7\n",
       " 2.6895486110647536e-7\n",
       " 3.18574314847409e-6\n",
       " 7.375106374416742e-7\n",
       " 2.431230382883396e-7\n",
       " ⋮\n",
       " 1.1305006040148547e-6\n",
       " 4.874825281822915e-6\n",
       " 3.167946973112519e-6\n",
       " 9.72688040308568e-7\n",
       " 6.588614479285245e-7\n",
       " 7.737011774300648e-7\n",
       " 2.431230382883396e-7\n",
       " 1.6219204214797293e-6\n",
       " 3.912130060551738e-7\n",
       " 2.431230382883396e-7\n",
       " 7.296033831163157e-6\n",
       " 6.330939996912478e-7"
      ]
     },
     "execution_count": 50,
     "metadata": {},
     "output_type": "execute_result"
    }
   ],
   "source": [
    "using CodecZlib, DelimitedFiles\n",
    "\n",
    "isfile(\"pgrksol.csv.gz\") || download(\"https://raw.githubusercontent.com/ucla-biostat-257/2022spring/master/hw/hw4/pgrksol.csv.gz\", pwd())\n",
    "xsol = open(\"pgrksol.csv.gz\", \"r\") do io\n",
    "    vec(readdlm(GzipDecompressorStream(io)))\n",
    "end"
   ]
  },
  {
   "cell_type": "markdown",
   "metadata": {},
   "source": [
    "**You will lose all 35 points (Steps 1 and 2)** if the following statements throw AssertError."
   ]
  },
  {
   "cell_type": "code",
   "execution_count": 51,
   "metadata": {},
   "outputs": [],
   "source": [
    "M = PageRankImPt(A, 0.85)\n",
    "n = size(M, 1)\n",
    "\n",
    "@assert norm(transpose(M) * ones(n)) < 1e-12"
   ]
  },
  {
   "cell_type": "code",
   "execution_count": 52,
   "metadata": {},
   "outputs": [],
   "source": [
    "@assert norm(M * xsol) < 1e-12"
   ]
  },
  {
   "cell_type": "markdown",
   "metadata": {},
   "source": [
    "### Step 2 (20 pts)\n",
    "\n",
    "We want to benchmark the hot functions `mul!` to make sure they are efficient and allocate little memory."
   ]
  },
  {
   "cell_type": "code",
   "execution_count": 53,
   "metadata": {},
   "outputs": [
    {
     "data": {
      "text/plain": [
       "BenchmarkTools.Trial: 400 samples with 1 evaluation.\n",
       " Range \u001b[90m(\u001b[39m\u001b[36m\u001b[1mmin\u001b[22m\u001b[39m … \u001b[35mmax\u001b[39m\u001b[90m):  \u001b[39m\u001b[36m\u001b[1m12.237 ms\u001b[22m\u001b[39m … \u001b[35m13.287 ms\u001b[39m  \u001b[90m┊\u001b[39m GC \u001b[90m(\u001b[39mmin … max\u001b[90m): \u001b[39m0.00% … 0.00%\n",
       " Time  \u001b[90m(\u001b[39m\u001b[34m\u001b[1mmedian\u001b[22m\u001b[39m\u001b[90m):     \u001b[39m\u001b[34m\u001b[1m12.280 ms              \u001b[22m\u001b[39m\u001b[90m┊\u001b[39m GC \u001b[90m(\u001b[39mmedian\u001b[90m):    \u001b[39m0.00%\n",
       " Time  \u001b[90m(\u001b[39m\u001b[32m\u001b[1mmean\u001b[22m\u001b[39m ± \u001b[32mσ\u001b[39m\u001b[90m):   \u001b[39m\u001b[32m\u001b[1m12.300 ms\u001b[22m\u001b[39m ± \u001b[32m86.972 μs\u001b[39m  \u001b[90m┊\u001b[39m GC \u001b[90m(\u001b[39mmean ± σ\u001b[90m):  \u001b[39m0.00% ± 0.00%\n",
       "\n",
       "  \u001b[39m \u001b[39m \u001b[39m \u001b[39m▆\u001b[39m█\u001b[39m▃\u001b[39m▃\u001b[34m▂\u001b[39m\u001b[39m \u001b[39m \u001b[32m \u001b[39m\u001b[39m \u001b[39m \u001b[39m \u001b[39m \u001b[39m \u001b[39m \u001b[39m \u001b[39m \u001b[39m \u001b[39m \u001b[39m \u001b[39m \u001b[39m \u001b[39m \u001b[39m \u001b[39m \u001b[39m \u001b[39m \u001b[39m \u001b[39m \u001b[39m \u001b[39m \u001b[39m \u001b[39m \u001b[39m \u001b[39m \u001b[39m \u001b[39m \u001b[39m \u001b[39m \u001b[39m \u001b[39m \u001b[39m \u001b[39m \u001b[39m \u001b[39m \u001b[39m \u001b[39m \u001b[39m \u001b[39m \u001b[39m \u001b[39m \u001b[39m \u001b[39m \u001b[39m \u001b[39m \u001b[39m \u001b[39m \u001b[39m \u001b[39m \n",
       "  \u001b[39m▃\u001b[39m▄\u001b[39m▇\u001b[39m█\u001b[39m█\u001b[39m█\u001b[39m█\u001b[34m█\u001b[39m\u001b[39m█\u001b[39m▇\u001b[32m▇\u001b[39m\u001b[39m▇\u001b[39m▅\u001b[39m▄\u001b[39m▄\u001b[39m▃\u001b[39m▃\u001b[39m▃\u001b[39m▂\u001b[39m▁\u001b[39m▃\u001b[39m▃\u001b[39m▃\u001b[39m▁\u001b[39m▁\u001b[39m▂\u001b[39m▂\u001b[39m▁\u001b[39m▁\u001b[39m▁\u001b[39m▁\u001b[39m▁\u001b[39m▁\u001b[39m▁\u001b[39m▂\u001b[39m▁\u001b[39m▁\u001b[39m▁\u001b[39m▁\u001b[39m▁\u001b[39m▁\u001b[39m▂\u001b[39m▁\u001b[39m▂\u001b[39m▁\u001b[39m▁\u001b[39m▂\u001b[39m▂\u001b[39m▂\u001b[39m▂\u001b[39m▁\u001b[39m▂\u001b[39m▁\u001b[39m▁\u001b[39m▂\u001b[39m▁\u001b[39m▁\u001b[39m▁\u001b[39m▂\u001b[39m \u001b[39m▃\n",
       "  12.2 ms\u001b[90m         Histogram: frequency by time\u001b[39m        12.6 ms \u001b[0m\u001b[1m<\u001b[22m\n",
       "\n",
       " Memory estimate\u001b[90m: \u001b[39m\u001b[33m0 bytes\u001b[39m, allocs estimate\u001b[90m: \u001b[39m\u001b[33m0\u001b[39m."
      ]
     },
     "execution_count": 53,
     "metadata": {},
     "output_type": "execute_result"
    }
   ],
   "source": [
    "M = PageRankImPt(A, 0.85)\n",
    "n = size(M, 1)\n",
    "v, out = ones(n), zeros(n)\n",
    "bm_mv = @benchmark mul!($out, $M, $v) setup=(fill!(out, 0); fill!(v, 1))"
   ]
  },
  {
   "cell_type": "code",
   "execution_count": 54,
   "metadata": {},
   "outputs": [
    {
     "data": {
      "text/plain": [
       "BenchmarkTools.Trial: 415 samples with 1 evaluation.\n",
       " Range \u001b[90m(\u001b[39m\u001b[36m\u001b[1mmin\u001b[22m\u001b[39m … \u001b[35mmax\u001b[39m\u001b[90m):  \u001b[39m\u001b[36m\u001b[1m11.797 ms\u001b[22m\u001b[39m … \u001b[35m 13.149 ms\u001b[39m  \u001b[90m┊\u001b[39m GC \u001b[90m(\u001b[39mmin … max\u001b[90m): \u001b[39m0.00% … 0.00%\n",
       " Time  \u001b[90m(\u001b[39m\u001b[34m\u001b[1mmedian\u001b[22m\u001b[39m\u001b[90m):     \u001b[39m\u001b[34m\u001b[1m11.821 ms               \u001b[22m\u001b[39m\u001b[90m┊\u001b[39m GC \u001b[90m(\u001b[39mmedian\u001b[90m):    \u001b[39m0.00%\n",
       " Time  \u001b[90m(\u001b[39m\u001b[32m\u001b[1mmean\u001b[22m\u001b[39m ± \u001b[32mσ\u001b[39m\u001b[90m):   \u001b[39m\u001b[32m\u001b[1m11.844 ms\u001b[22m\u001b[39m ± \u001b[32m105.568 μs\u001b[39m  \u001b[90m┊\u001b[39m GC \u001b[90m(\u001b[39mmean ± σ\u001b[90m):  \u001b[39m0.00% ± 0.00%\n",
       "\n",
       "  \u001b[39m▂\u001b[39m▆\u001b[39m█\u001b[39m▇\u001b[34m▆\u001b[39m\u001b[39m▅\u001b[39m▅\u001b[39m▃\u001b[32m▁\u001b[39m\u001b[39m▃\u001b[39m \u001b[39m▁\u001b[39m \u001b[39m \u001b[39m \u001b[39m \u001b[39m \u001b[39m \u001b[39m \u001b[39m \u001b[39m \u001b[39m \u001b[39m \u001b[39m \u001b[39m \u001b[39m \u001b[39m \u001b[39m \u001b[39m \u001b[39m \u001b[39m \u001b[39m \u001b[39m \u001b[39m \u001b[39m \u001b[39m \u001b[39m \u001b[39m \u001b[39m \u001b[39m \u001b[39m \u001b[39m \u001b[39m \u001b[39m \u001b[39m \u001b[39m \u001b[39m \u001b[39m \u001b[39m \u001b[39m \u001b[39m \u001b[39m \u001b[39m \u001b[39m \u001b[39m \u001b[39m \u001b[39m \u001b[39m \u001b[39m \u001b[39m \u001b[39m \u001b[39m \n",
       "  \u001b[39m█\u001b[39m█\u001b[39m█\u001b[39m█\u001b[34m█\u001b[39m\u001b[39m█\u001b[39m█\u001b[39m█\u001b[32m█\u001b[39m\u001b[39m█\u001b[39m█\u001b[39m█\u001b[39m█\u001b[39m▆\u001b[39m▁\u001b[39m▇\u001b[39m▅\u001b[39m▄\u001b[39m▁\u001b[39m▅\u001b[39m▄\u001b[39m▁\u001b[39m▅\u001b[39m▁\u001b[39m▄\u001b[39m▁\u001b[39m▄\u001b[39m▁\u001b[39m▄\u001b[39m▁\u001b[39m▁\u001b[39m▄\u001b[39m▁\u001b[39m▆\u001b[39m▁\u001b[39m▁\u001b[39m▅\u001b[39m▄\u001b[39m▄\u001b[39m▄\u001b[39m▅\u001b[39m▁\u001b[39m▁\u001b[39m▁\u001b[39m▁\u001b[39m▁\u001b[39m▁\u001b[39m▄\u001b[39m▄\u001b[39m▄\u001b[39m▁\u001b[39m▁\u001b[39m▁\u001b[39m▁\u001b[39m▁\u001b[39m▁\u001b[39m▁\u001b[39m▁\u001b[39m▁\u001b[39m▄\u001b[39m \u001b[39m▇\n",
       "  11.8 ms\u001b[90m       \u001b[39m\u001b[90mHistogram: \u001b[39m\u001b[90m\u001b[1mlog(\u001b[22m\u001b[39m\u001b[90mfrequency\u001b[39m\u001b[90m\u001b[1m)\u001b[22m\u001b[39m\u001b[90m by time\u001b[39m      12.2 ms \u001b[0m\u001b[1m<\u001b[22m\n",
       "\n",
       " Memory estimate\u001b[90m: \u001b[39m\u001b[33m0 bytes\u001b[39m, allocs estimate\u001b[90m: \u001b[39m\u001b[33m0\u001b[39m."
      ]
     },
     "execution_count": 54,
     "metadata": {},
     "output_type": "execute_result"
    }
   ],
   "source": [
    "bm_mtv = @benchmark mul!($out, $(transpose(M)), $v) setup=(fill!(out, 0); fill!(v, 1))"
   ]
  },
  {
   "cell_type": "markdown",
   "metadata": {},
   "source": [
    "You will lose 1 point for each 100 bytes memory allocation. So the points you will get is"
   ]
  },
  {
   "cell_type": "code",
   "execution_count": 55,
   "metadata": {},
   "outputs": [
    {
     "data": {
      "text/plain": [
       "20.0"
      ]
     },
     "execution_count": 55,
     "metadata": {},
     "output_type": "execute_result"
    }
   ],
   "source": [
    "clamp(10 - median(bm_mv).memory / 100, 0, 10) + \n",
    "clamp(10 - median(bm_mtv).memory / 100, 0, 10)"
   ]
  },
  {
   "cell_type": "markdown",
   "metadata": {},
   "source": [
    "**Hint**: My median run times are 30-40 ms and memory allocations are 0 bytes."
   ]
  },
  {
   "cell_type": "markdown",
   "metadata": {},
   "source": [
    "### Step 3 (20 pts)\n",
    "\n",
    "Let's first try to solve the PageRank problem by the GMRES method for solving linear equations. "
   ]
  },
  {
   "cell_type": "code",
   "execution_count": 56,
   "metadata": {},
   "outputs": [
    {
     "data": {
      "text/plain": [
       "(value = ([3.378342822237397e-5, 2.0710155392781265e-6, 3.663065985290286e-6, 7.527510785714565e-7, 8.633285997289003e-7, 1.769418252763817e-6, 2.431230382949412e-7, 6.368417180841316e-7, 4.7449737038222236e-7, 2.689548611137733e-7  …  3.167946974023204e-6, 9.726880410372258e-7, 6.588614478640726e-7, 7.737011774829105e-7, 2.431230382949412e-7, 1.6219204214483914e-6, 3.912130060690359e-7, 2.431230382949412e-7, 7.296033831434169e-6, 6.330939996774086e-7], ConvergenceInfo: one converged value after 3 iterations and 72 applications of the linear map;\n",
       "norms of residuals are given by (7.821117064217091e-13,).\n",
       "), time = 4.01407025, bytes = 1008307445, gctime = 0.018868958, gcstats = Base.GC_Diff(1008307445, 137, 0, 64151, 4, 0, 18868958, 2, 0))"
      ]
     },
     "execution_count": 56,
     "metadata": {},
     "output_type": "execute_result"
    }
   ],
   "source": [
    "using KrylovKit\n",
    "\n",
    "# normalize in-degrees to be the start point\n",
    "x0   = vec(sum(A, dims = 1)) .+ 1.0\n",
    "x0 ./= sum(x0)\n",
    "\n",
    "# right hand side\n",
    "b = zeros(n)\n",
    "\n",
    "# warm up (compilation)\n",
    "linsolve(M, b, x0, issymmetric = false, isposdef = false, maxiter = 1) \n",
    "# output is complex eigenvalue/eigenvector\n",
    "(x_gmres, info), time_gmres, = @timed linsolve(M, b, x0, issymmetric = false, isposdef = false)"
   ]
  },
  {
   "cell_type": "markdown",
   "metadata": {},
   "source": [
    "Check correctness. **You will lose all 20 points if the following statement throws `AssertError`.**"
   ]
  },
  {
   "cell_type": "code",
   "execution_count": 57,
   "metadata": {},
   "outputs": [],
   "source": [
    "@assert norm(x_gmres - xsol) < 1e-8"
   ]
  },
  {
   "cell_type": "markdown",
   "metadata": {},
   "source": [
    "GMRES should be reasonably fast. The points you'll get is"
   ]
  },
  {
   "cell_type": "code",
   "execution_count": 58,
   "metadata": {},
   "outputs": [
    {
     "data": {
      "text/plain": [
       "20.0"
      ]
     },
     "execution_count": 58,
     "metadata": {},
     "output_type": "execute_result"
    }
   ],
   "source": [
    "clamp(20 / time_gmres * 20, 0, 20)"
   ]
  },
  {
   "cell_type": "markdown",
   "metadata": {},
   "source": [
    "**Hint**: My runtime is about 7-8 seconds."
   ]
  },
  {
   "cell_type": "markdown",
   "metadata": {},
   "source": [
    "### Step 4 (20 pts)\n",
    "\n",
    "Let's first try to solve the PageRank problem by the Arnoldi method for solving eigen problems. "
   ]
  },
  {
   "cell_type": "code",
   "execution_count": 59,
   "metadata": {},
   "outputs": [
    {
     "data": {
      "text/plain": [
       "(value = (ComplexF64[-1.6492313476466683e-13 + 0.0im], Vector{ComplexF64}[[0.005635826953806499 + 0.0im, 0.0003454914380782207 + 0.0im, 0.0006110808494125081 + 0.0im, 0.00012557561626038913 + 0.0im, 0.000144022405328065 + 0.0im, 0.0002951783050398912 + 0.0im, 4.055832828680787e-5 + 0.0im, 0.00010623935784854303 + 0.0im, 7.915671116200255e-5 + 0.0im, 4.486765066728047e-5 + 0.0im  …  0.0005284839899796178 + 0.0im, 0.00016226599147987382 + 0.0im, 0.0001099127383761334 + 0.0im, 0.00012907055855754612 + 0.0im, 4.055832828680787e-5 + 0.0im, 0.0002705723874320663 + 0.0im, 6.526302748336452e-5 + 0.0im, 4.055832828680787e-5 + 0.0im, 0.0012171406601332862 + 0.0im, 0.00010561415510704564 + 0.0im]], ConvergenceInfo: one converged value after 7 iterations and 99 applications of the linear map;\n",
       "norms of residuals are given by (9.574727551255147e-14,).\n",
       "), time = 7.428900208, bytes = 1580663984, gctime = 0.050564334, gcstats = Base.GC_Diff(1580663984, 213, 0, 66859, 20, 0, 50564334, 5, 0))"
      ]
     },
     "execution_count": 59,
     "metadata": {},
     "output_type": "execute_result"
    }
   ],
   "source": [
    "# warm up (compilation)\n",
    "eigsolve(M, x0, 1, :SR, issymmetric = false, maxiter = 1)\n",
    "# output is complex eigenvalue/eigenvector\n",
    "(vals, vecs, info), time_arnoldi, = @timed eigsolve(M, x0, 1, :SR, issymmetric = false)"
   ]
  },
  {
   "cell_type": "markdown",
   "metadata": {},
   "source": [
    "Check correctness. **You will lose all 20 points if the following statement throws `AssertError`.**"
   ]
  },
  {
   "cell_type": "code",
   "execution_count": 60,
   "metadata": {},
   "outputs": [],
   "source": [
    "@assert abs(Real(vals[1])) < 1e-8"
   ]
  },
  {
   "cell_type": "code",
   "execution_count": 61,
   "metadata": {},
   "outputs": [],
   "source": [
    "x_arnoldi   = abs.(Real.(vecs[1]))\n",
    "x_arnoldi ./= sum(x_arnoldi)\n",
    "@assert norm(x_arnoldi - xsol) < 1e-8"
   ]
  },
  {
   "cell_type": "markdown",
   "metadata": {},
   "source": [
    "Arnoldi should be reasonably fast. The points you'll get is"
   ]
  },
  {
   "cell_type": "code",
   "execution_count": 62,
   "metadata": {},
   "outputs": [
    {
     "data": {
      "text/plain": [
       "20.0"
      ]
     },
     "execution_count": 62,
     "metadata": {},
     "output_type": "execute_result"
    }
   ],
   "source": [
    "clamp(20 / time_arnoldi * 20, 0, 20)"
   ]
  },
  {
   "cell_type": "markdown",
   "metadata": {},
   "source": [
    "**Hint**: My runtime is about 11-12 seconds."
   ]
  },
  {
   "cell_type": "markdown",
   "metadata": {},
   "source": [
    "## Q6 (5 pts) Results\n",
    "\n",
    "List the top 20 pages you found and their corresponding PageRank score. Do they match the top 20 pages ranked according to in-degrees? "
   ]
  },
  {
   "cell_type": "markdown",
   "metadata": {},
   "source": [
    "#### Solution:"
   ]
  },
  {
   "cell_type": "code",
   "execution_count": 63,
   "metadata": {},
   "outputs": [
    {
     "data": {
      "text/plain": [
       "20-element Vector{Tuple{Int64, Float64}}:\n",
       " (819224, 0.0005765189745892721)\n",
       " (885606, 0.0005812660190093561)\n",
       " (213433, 0.0005894474426283155)\n",
       " (7315, 0.0005926642909356454)\n",
       " (173977, 0.000603115191151035)\n",
       " (908352, 0.000614622081513541)\n",
       " (425771, 0.0006168480317129871)\n",
       " (751385, 0.0006546558408633476)\n",
       " (765335, 0.0006762276023319394)\n",
       " (551830, 0.0006950751256780081)\n",
       " (558792, 0.0007021658710885689)\n",
       " (32164, 0.000705518268358324)\n",
       " (605857, 0.000710848395487534)\n",
       " (486981, 0.0007177642925494127)\n",
       " (504141, 0.0007575423487533373)\n",
       " (384667, 0.0007791031791058587)\n",
       " (537040, 0.0008899344805014019)\n",
       " (163076, 0.0008950559016092856)\n",
       " (41910, 0.0009120131809713043)\n",
       " (597622, 0.0009145812115938595)"
      ]
     },
     "execution_count": 63,
     "metadata": {},
     "output_type": "execute_result"
    }
   ],
   "source": [
    "#Sorted PageRank scores\n",
    "x_gmres;\n",
    "r = sortperm(x_gmres);\n",
    "\n",
    "pagerank = collect(zip(r, x_gmres[r]));\n",
    "pagerank[(length(r) - 19):length(r)]"
   ]
  },
  {
   "cell_type": "markdown",
   "metadata": {},
   "source": [
    "Comparing this to the in-degree scores directly computed from $A$:"
   ]
  },
  {
   "cell_type": "code",
   "execution_count": 66,
   "metadata": {},
   "outputs": [
    {
     "data": {
      "text/plain": [
       "20-element Vector{Tuple{Int64, Int64}}:\n",
       " (687326, 3956)\n",
       " (173977, 3988)\n",
       " (384667, 4010)\n",
       " (765335, 4015)\n",
       " (213433, 4084)\n",
       " (407611, 4180)\n",
       " (459075, 4187)\n",
       " (558792, 4206)\n",
       " (41910, 4219)\n",
       " (551830, 4220)\n",
       " (828964, 4484)\n",
       " (605857, 4550)\n",
       " (819224, 4620)\n",
       " (163076, 4731)\n",
       " (885606, 4847)\n",
       " (32164, 5097)\n",
       " (751385, 5182)\n",
       " (504141, 5271)\n",
       " (597622, 5354)\n",
       " (537040, 6326)"
      ]
     },
     "execution_count": 66,
     "metadata": {},
     "output_type": "execute_result"
    }
   ],
   "source": [
    "#Sorted in-degree scores\n",
    "rank_indeg[(length(rank_indeg) - 19):length(rank_indeg)]"
   ]
  },
  {
   "cell_type": "markdown",
   "metadata": {},
   "source": [
    "The rankings are generally similar, but not identical.  Highly influential sites with a large number of in-degree links scored generally quite well in PageRank score.  For instance, the top PageRank site (597,622) ranks second by in-degree links.  The next four top PageRank sites scored 12th, 7th, 1st, and 18th respectively by in-degree.  Others, like site 486,981, scored highly in PageRank (7th), but didn't crack the in-degree top 20.  However, this aligns with what we should expect from the PageRank algorithm.  In addition to total in-degree count, PageRank also accounts for the relative importance of the linking sites.  A link from a highly influential site counts more than a link from a low-influence one.  So we can reason that sites whose PageRank score outpaces their in-degree ranking are linked to by more influential pages than average.  The PageRank algorithm provides a highly efficient means of accounting for these factors."
   ]
  },
  {
   "cell_type": "markdown",
   "metadata": {},
   "source": [
    "## Q7 Be proud of yourself\n",
    "\n",
    "Go to your resume/cv and claim you have experience performing analysis on a network of one million nodes."
   ]
  },
  {
   "cell_type": "markdown",
   "metadata": {},
   "source": [
    "#### Solution:"
   ]
  },
  {
   "cell_type": "markdown",
   "metadata": {},
   "source": [
    "Thanks!"
   ]
  }
 ],
 "metadata": {
  "@webio": {
   "lastCommId": null,
   "lastKernelId": null
  },
  "kernelspec": {
   "display_name": "Julia 1.7.2",
   "language": "julia",
   "name": "julia-1.7"
  },
  "language_info": {
   "file_extension": ".jl",
   "mimetype": "application/julia",
   "name": "julia",
   "version": "1.7.2"
  },
  "toc": {
   "colors": {
    "hover_highlight": "#DAA520",
    "running_highlight": "#FF0000",
    "selected_highlight": "#FFD700"
   },
   "moveMenuLeft": true,
   "nav_menu": {
    "height": "87px",
    "width": "252px"
   },
   "navigate_menu": true,
   "number_sections": false,
   "sideBar": true,
   "skip_h1_title": true,
   "threshold": 4,
   "toc_cell": false,
   "toc_section_display": "block",
   "toc_window_display": true,
   "widenNotebook": false
  }
 },
 "nbformat": 4,
 "nbformat_minor": 4
}
