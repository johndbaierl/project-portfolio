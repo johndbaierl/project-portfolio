{
 "cells": [
  {
   "cell_type": "markdown",
   "metadata": {
    "id": "dPloAvvc2Pqo"
   },
   "source": [
    "# **Homework 3**\n",
    "John Baierl \\\n",
    "STATS M231A\n"
   ]
  },
  {
   "cell_type": "markdown",
   "metadata": {
    "id": "pmVo4Pyb2hLD"
   },
   "source": [
    "*Problem 1:*\n",
    "\n"
   ]
  },
  {
   "cell_type": "markdown",
   "metadata": {
    "id": "SKo3-JJy386a"
   },
   "source": [
    "(1): *Derive the learned $f(x_0)$ in kernel regression.*\n",
    "\n",
    "In the regression case, we are interested in predicting a the outcome $y_0$ for a new observation, $y_0 = f(x_0)$.  Our goal is to learn the specific function $f$ within some specified class to minimize a loss function.  Kernel regression makes use of the representer form in which we express this solution as a linear combination of kernel products for some kernel function $K$.\n",
    "\n",
    "More rigorously, under least-squares loss, we wish to minimize:\n",
    "\n",
    "$\n",
    "Loss(f) = \\sum_{i = 1}^{n} (y_i - f(x_i))^2 + \\lambda |f|^2_{\\mathcal{F}}\n",
    "$\n",
    "\n",
    "where $ |f|^2_{\\mathcal{F}}$ is some measure of smoothness (e.g. $|\\beta|_{\\ell_2}^2$ in the case of ridge regression).  Our representer will then be in the form:\n",
    "\n",
    "$\n",
    "\\hat{f}(x_0) = \\sum_{i = 1}^{n} c_i K(x_i, x_0)\n",
    "$\n",
    "\n",
    "This emerges from our understanding of $\\hat{f}$ being a projection of $f$ onto the space of the kernel $K$.\n",
    "\n",
    "We can apply this to the case of ridge regression, expressing our loss function as:\n",
    "\n",
    "$\n",
    "Loss(\\beta) = \\sum_{i = 1}^{n} (y_i - h(x_i)^T \\beta)^2 + \\lambda |\\beta|_{\\ell_2}^2\n",
    "$\n",
    "\n",
    "where $h(x)$ is a possibly infinite-dimensional feature vector.  Our parameter estimate can then be expressed in representer form as $\\hat{\\beta} = \\sum_{i = 1}^{n} c_i h(x_i)$.  Our loss function becomes:\n",
    "\n",
    "$\n",
    "\\begin{align}\n",
    "Loss(\\beta) &= \\sum_{i = 1}^{n} \\left( y_i - h(x_i)^T \\sum_{i = 1}^{n} c_i h(x_i) \\right)^2 + \\lambda \\langle \\sum_{i = 1}^{n} c_i h(x_i), \\sum_{j = 1}^{n} c_j h(x_j) \\rangle \\\\\n",
    "&= \\sum_{i = 1}^{n} \\left( y_i - \\sum_{j = 1}^{n} c_j K_{ij} \\right)^2 + \\lambda \\sum_{i = 1}^{n} c_i c_j K_{ij}\n",
    "\\end{align}\n",
    "$\n",
    "\n",
    "where $K_{ij} = K(x_i, x_j)$.  Minimizing this loss function to solve for $c$:\n",
    "\n",
    "$\n",
    "\\begin{align}\n",
    "Loss(c) &= |Y - Kc|^2 + \\lambda c^T K c \\\\\n",
    "&= (Y - Kc)^T (Y - Kc) + \\lambda c^T K c \\\\\n",
    "&= Y^T Y - c^T KY - YKc + c^T K^2 c + \\lambda c^T K c \\\\\n",
    "\\frac{\\partial Loss}{\\partial c} &= -2 KY + 2 K^2 C + 2 \\lambda Kc \\\\\n",
    "0 &= \\\\\n",
    "(K + \\lambda I_n)c &= Y \\\\\n",
    "c &= (K + \\lambda I_n)^{-1} Y\n",
    "\\end{align}\n",
    "$\n",
    "\n",
    "Note that while the feature vector $h(x)$ is implicit, the kernel function is explicitly specified, capturing those higher-dimensional relationships.  This allows us to save computational cost by simply computing the kernel at observed and test points, then scaling by the learned $c$ and summing."
   ]
  },
  {
   "cell_type": "markdown",
   "metadata": {
    "id": "zqZAwAcO49z9"
   },
   "source": [
    "(2): *Derive the posterior distribution of $f(x_0)$ in Gaussian process.*\n",
    "\n",
    "In Gaussian process case, we assign a function $f$ a prior distribution given by:\n",
    "\n",
    "$f ∼ GP(0, \\tau^2 K)$\n",
    "\n",
    "We can think of this a describing the ditribution of a population of equally likely curves, $f$, that fit our observed data, $(X, Y)$.  The kernel function $K$ defines the covariance between continuous observations at $x_i$ and $x_j$.  This leads to the interpretation of the kernel function in Gaussian process as an infinite-dimensional covariance matrix.\n",
    "\n",
    "Moreover, since the marginal and conditional distributions of any multivariate Gaussian distribution is also Gaussian, we can use block matrices and the well-known properties of bivariate Gaussian distributions to derive the posterior distribution $f(x_0)$ at some new observation $x_0$.\n",
    "\n",
    "We begin by expressing the joint distribution of the observed $y_i = f(x_i), i = 1, \\dots, n$ and new prediction, $y_0 = f(x_0)$ as jointly Gaussian, given by:\n",
    "\n",
    "$\n",
    "\\begin{pmatrix}\n",
    "f(x_1) \\\\\n",
    "\\vdots \\\\\n",
    "f(x_i) \\\\\n",
    "\\vdots \\\\\n",
    "f(x_n) \\\\\n",
    "f(x_0)\n",
    "\\end{pmatrix}\n",
    "\\sim N\n",
    "\\begin{pmatrix}\n",
    "\\vec{0}, &\n",
    "\\begin{bmatrix}\n",
    "\\tau^2 K_{1, 1} & \\dots & \\tau^2 K_{1, i} & \\dots & \\tau^2 K_{1, n} & \\tau^2 K_{1, 0} \\\\\n",
    "\\vdots & \\ddots & \\vdots & & \\vdots & \\vdots \\\\\n",
    "\\tau^2 K_{i, 1} & \\dots & \\tau^2 K_{i, i} & \\dots & \\tau^2 K_{i, n} & \\tau^2 K_{i, 0} \\\\\n",
    "\\vdots & & \\vdots & \\ddots & \\vdots & \\vdots \\\\\n",
    "\\tau^2 K_{n, 1} & \\dots & \\tau^2 K_{n, i} & \\dots & \\tau^2 K_{n, n} & \\tau^2 K_{n, 0} \\\\\n",
    "\\tau^2 K_{0, 1} & \\dots & \\tau^2 K_{0, i} & \\dots & \\tau^2 K_{0, n} & \\tau^2 K_{0, 0}\n",
    "\\end{bmatrix}\n",
    "\\end{pmatrix}\n",
    "$\n",
    "\n",
    "where $K_{i, j} = K(x_i, x_j)$.  To simplify, define the following matrices:\n",
    "\n",
    "$\n",
    "A = \\begin{bmatrix}\n",
    "\\tau^2 K_{1, 1} & \\dots & \\tau^2 K_{1, i} & \\dots & \\tau^2 K_{1, n} \\\\\n",
    "\\vdots & \\ddots & \\vdots & & \\vdots \\\\\n",
    "\\tau^2 K_{i, 1} & \\dots & \\tau^2 K_{i, i} & \\dots & \\tau^2 K_{i, n} \\\\\n",
    "\\vdots & & \\vdots & \\ddots & \\vdots \\\\\n",
    "\\tau^2 K_{n, 1} & \\dots & \\tau^2 K_{n, i} & \\dots & \\tau^2 K_{n, n}\n",
    "\\end{bmatrix},\n",
    "B = \\begin{bmatrix}\n",
    "\\tau^2 K_{1, 0} \\\\\n",
    "\\vdots \\\\\n",
    "\\tau^2 K_{i, 0} \\\\\n",
    "\\vdots \\\\\n",
    "\\tau^2 K_{n, 0}\n",
    "\\end{bmatrix},\n",
    "C = \\begin{bmatrix}\n",
    "\\tau^2 K_{0, 0}\n",
    "\\end{bmatrix}\n",
    "$\n",
    "\n",
    "We can then express this joint distribution as bivariate Gaussian over block matrices, adding i.i.d. noise $\\sigma^2$ to the observed $X$:\n",
    "\n",
    "$\n",
    "\\begin{pmatrix}\n",
    "Y \\\\\n",
    "y_0\n",
    "\\end{pmatrix}\n",
    "\\sim N\n",
    "\\begin{pmatrix}\n",
    "\\vec{0}, & \\begin{bmatrix}\n",
    "A + \\sigma^2 I_n & B \\\\\n",
    "B^T & C\n",
    "\\end{bmatrix}\n",
    "\\end{pmatrix}\n",
    "$\n",
    "\n",
    "From the conditional distribution of a bivariate Gaussian distribution, we find:\n",
    "\n",
    "$\n",
    "\\left[ \\hat{y} = f(x_0) | Y, X \\right] \\sim N \\left( B^T (A + \\sigma^2 I_n)^{-1} Y, C - B^T (A + \\sigma^2 I_n)^{-1} C \\right)\n",
    "$"
   ]
  },
  {
   "cell_type": "markdown",
   "metadata": {
    "id": "ZD3JIsYYsbf1"
   },
   "source": [
    "(3): *Compare (1) and (2), and interpret them as interpolative memorization.*\n",
    "\n",
    "Both kernel regression and Gaussian process employ the representer theorem, expressing the loss-minimizing function as a learned linear combination of implicit features of the observed data.  As such, both methods employ the kernel trick in their computation.  The posterior mean of $\\hat{y}$ given by $E[\\hat{y}] = B^T (A + \\sigma^2 I_n)^{-1}Y$ serves as a useful point of comparison between the two learning methods.  Similar to the kernel regression result in the ridge case, the MAP estimate involves the linear combination $(A + \\sigma^2 I_n)^{-1}Y$.  However, in the Gaussian distribution case, we further rescale by the query point's high-dimensional relationship with each of the training examples by left multiplying by $B^T$.  In this sense, the algorithm is \"memorizing\" the observed training examples, then using the relationships embedded in the kernel function to interpolate between them as well."
   ]
  },
  {
   "cell_type": "markdown",
   "metadata": {
    "id": "Zndl4XqMtH9J"
   },
   "source": [
    "(4): *Write Python code for Gaussian process in 1D case. Plot posterior mean ± standard*\n",
    "\n",
    "The code below generates simulated data for an arbitrary polynomial function with Gaussian noise."
   ]
  },
  {
   "cell_type": "code",
   "execution_count": 2,
   "metadata": {
    "colab": {
     "base_uri": "https://localhost:8080/",
     "height": 313
    },
    "id": "ucFNKlMa2OIY",
    "outputId": "d2d41409-fef7-4afa-fd85-6015fa7b3781"
   },
   "outputs": [
    {
     "data": {
      "text/plain": [
       "Text(0.5, 1.0, '20 Observations')"
      ]
     },
     "execution_count": 2,
     "metadata": {},
     "output_type": "execute_result"
    },
    {
     "data": {
      "image/png": "[encoded data removed]",
      "text/plain": [
       "<Figure size 432x288 with 1 Axes>"
      ]
     },
     "metadata": {
      "needs_background": "light"
     },
     "output_type": "display_data"
    }
   ],
   "source": [
    "import numpy as np\n",
    "import matplotlib.pyplot as plt\n",
    "from scipy.stats import norm\n",
    "\n",
    "#Generate some test data...\n",
    "n = 20\n",
    "\n",
    "np.random.seed(123)\n",
    "x = np.random.uniform(low = 0, high = 10, size = n)\n",
    "eps = np.random.normal(loc = 0, scale = 1, size = n)\n",
    "y = -0.1 * x**3 + x**2 - 0.5 * x + 5 + eps #Arbitrary function w/ Gaussian noise\n",
    "\n",
    "plt.scatter(x, y)\n",
    "plt.xlabel(\"x\")\n",
    "plt.ylabel(\"y\")\n",
    "plt.title(\"20 Observations\")"
   ]
  },
  {
   "cell_type": "markdown",
   "metadata": {
    "id": "5vm5tWAntbds"
   },
   "source": [
    "We now fit a Gaussian process regression model using a radial basis function kernel:"
   ]
  },
  {
   "cell_type": "code",
   "execution_count": 3,
   "metadata": {
    "id": "j-8P8y_Qv_ba"
   },
   "outputs": [],
   "source": [
    "#To simplify, limited to 1D case for now:\n",
    "\n",
    "def gauss_kernel(x, x_prime, gamma = 1):\n",
    "  return(np.exp(-gamma * (x - x_prime)**2))\n",
    "\n",
    "def my_GP(x, y, x_prime, conf = 0.95,\n",
    "          gamma = 1, tau2 = 1, sig2 = 1):\n",
    "  n_obs = x.shape[0]; n_test = x_prime.shape[0]\n",
    "  #Initialize block matrices\n",
    "  A = np.empty(shape = (n_obs, n_obs))\n",
    "  B = np.empty(shape = (n_obs, n_test))\n",
    "\n",
    "  for i in np.arange(n_obs):\n",
    "    for j in np.arange(n_obs):\n",
    "      A[i, j] = tau2 * gauss_kernel(x[i], x[j], gamma)\n",
    "    for j in np.arange(n_test):\n",
    "      B[i, j] = tau2 * gauss_kernel(x[i], x_prime[j], gamma)\n",
    "  A += sig2 * np.identity(n_obs)\n",
    "  Ainv = np.linalg.inv(A)\n",
    "  C = tau2 * np.ones(n_test)\n",
    "\n",
    "  mean = np.matmul(B.T, np.matmul(Ainv, y))\n",
    "  var = C - np.sum(B.T * np.matmul(Ainv, B).T, axis = 1)\n",
    "  conf_int = np.empty(shape = (n_test, 2))\n",
    "  z_star = -norm.ppf((1 - conf) / 2)\n",
    "\n",
    "  conf_int[:, 0] = -z_star * np.sqrt(var) + mean\n",
    "  conf_int[:, 1] = z_star * np.sqrt(var) + mean\n",
    "  return(mean, var, conf_int)\n"
   ]
  },
  {
   "cell_type": "markdown",
   "metadata": {
    "id": "0stbREcj01Uj"
   },
   "source": [
    "Next, we form a dense grid of $x$'s and plot the predicted means and 95% confidence bounds based on the training data and ground truth function above:"
   ]
  },
  {
   "cell_type": "code",
   "execution_count": 6,
   "metadata": {
    "colab": {
     "base_uri": "https://localhost:8080/",
     "height": 299
    },
    "id": "1h4FgLGBjkVk",
    "outputId": "8c6d602e-96f2-4495-c65b-6c5aac36dde1"
   },
   "outputs": [
    {
     "data": {
      "text/plain": [
       "Text(0.5, 1.0, 'Gaussian Process Regression Fit (95%-CI)')"
      ]
     },
     "execution_count": 6,
     "metadata": {},
     "output_type": "execute_result"
    },
    {
     "data": {
      "image/png": "[encoded data removed]",
      "text/plain": [
       "<Figure size 432x288 with 1 Axes>"
      ]
     },
     "metadata": {
      "needs_background": "light"
     },
     "output_type": "display_data"
    }
   ],
   "source": [
    "x_grid = np.linspace(0, 10, 101)\n",
    "model = my_GP(x, y, x_grid, conf = 0.95, \n",
    "              sig2 = 1, gamma = 0.2, tau2 = 4)\n",
    "\n",
    "plt.plot(x_grid, model[0])\n",
    "plt.scatter(x, y)\n",
    "plt.plot(x_grid, model[2], color = \"green\")\n",
    "plt.title(\"Gaussian Process Regression Fit (with 95%-CI)\")"
   ]
  },
  {
   "cell_type": "markdown",
   "metadata": {
    "id": "quSN3yFa1Fby"
   },
   "source": [
    "The model successfully interpolates the missing regions in our training data while giving associated uncertainty estimates that match with our intuition.  Our next step would be to optimize the hyperparameters by maximizing the log-likelihood function.  However, this is outside the bounds of this HW!"
   ]
  },
  {
   "cell_type": "markdown",
   "metadata": {
    "id": "PNGVSpQJ5Ln4"
   },
   "source": [
    "*Problem 2:*\n",
    "\n"
   ]
  },
  {
   "cell_type": "markdown",
   "metadata": {
    "id": "gRMFL3vS1UGj"
   },
   "source": [
    "(1): *Derive kernel SVM for the non-separable case, especially the dual optimization problem.*\n",
    "\n",
    "The objective of SVM for classification is to learn a separating hyperplane to separate training examples.  The \"best\" hyperplane is obtained by finding the maximum margin classifier.  We determine this by projecting our training examples onto a unit vector $\\vec{u}$ orthogonal to the separating hyperplane.  We can assess a classifier by the margin $\\Delta$, the distance from the projected traning examples closest to the separating hyperplane.\n",
    "\n",
    "Translating this into an optimization problem, we can define:\n",
    "\n",
    "$\n",
    "a_+ = \\min_{i: y_i = 1} \\langle x_i, \\vec{u} \\rangle\n",
    "a_- = \\min_{i: y_i = -1} \\langle x_i, \\vec{u} \\rangle\n",
    "$\n",
    "\n",
    "Then $\\bar{a} = \\frac{a_+ + a_-}{2}$, and $\\Delta = a_+ - \\bar{a} = a_- - \\bar{a}$.  We can combine this as:\n",
    "\n",
    "$\n",
    "\\begin{cases}\n",
    "\\langle x_i, \\vec{u} \\rangle - \\bar{a} \\ge \\Delta & y_i = + \\\\\n",
    "\\langle x_i, \\vec{u} \\rangle - \\bar{a} \\le \\Delta & y_i = -\n",
    "\\end{cases}\n",
    "$\n",
    "\n",
    "Defining $w = \\frac{\\vec{u}}{\\Delta}$ and $b = \\frac{\\bar{a}}{\\Delta}$, this becomes:\n",
    "\n",
    "$\n",
    "\\begin{cases}\n",
    "\\langle x_i, w \\rangle - b \\ge 1 & y_i = + \\\\\n",
    "\\langle x_i, w \\rangle - b \\le -1 & y_i = -\n",
    "\\end{cases}\n",
    "$\n",
    "\n",
    "Coding responses as $y_i \\in \\{-1, 1 \\}$ allows us to combine these equations into:\n",
    "\n",
    "$\n",
    "y_i \\left( \\langle w, x_i \\rangle + b \\right) \\ge 1\n",
    "$\n",
    "\n",
    "Given that $\\Delta = \\frac{1}{|w|}$, our optimization problem is to learn $(w, b)$:\n",
    "\n",
    "$\n",
    "\\min_{(w, b)} \\frac{1}{2}|w|^2\n",
    "$\n",
    "\n",
    "subject to\n",
    "$\n",
    "y_i \\left( \\langle x_i, w \\rangle + b \\right) \\ge 1\n",
    "$\n",
    "for $i = 1, \\dots, n$.\n",
    "\n",
    "In the case of non-separable data, we add some slackness $\\xi_i$ measuring the distance of misclassified observations beyond the separating hyperplane.  Our new optimization problem becomes:\n",
    "\n",
    "$\n",
    "\\min_{(w, b), \\xi} \\frac{1}{2}|w|^2 + c \\sum_{i = 1}^{n} \\xi_i\n",
    "$\n",
    "\n",
    "subject to\n",
    "$\n",
    "y_i \\left( \\langle x_i, w \\rangle + b \\right) \\ge 1 - \\xi_i\n",
    "$\n",
    "for $i = 1, \\dots, n$.\n",
    "\n",
    "We can consider this our primal problem for optimization."
   ]
  },
  {
   "cell_type": "markdown",
   "metadata": {
    "id": "ap0GMAtCmQD4"
   },
   "source": [
    "We next translate this into a dual problem to solve computationally. Forming the Lagrangian function:\n",
    "\n",
    "\\begin{align}\n",
    "\\mathcal{L} \\left( (w, b, \\xi), (\\alpha, \\mu) \\right) &= \\frac{1}{2} |w|^2 + c \\sum_{i = 1}^{n} \\xi_i + \\sum_{i = 1}^{n} \\alpha_i \\left( 1 - \\xi_i - y_i (\\langle x_i, w \\rangle + b) \\right) + \\sum_{i = 1}^{n} \\mu_i (-\\xi_i) \\\\\n",
    "&= \\frac{1}{2} |w|^2 + \\sum_{i = 1}^{n} \\alpha_i \\left( 1 - y_i(\\langle x_i, w, \\rangle + b) \\right) + \\sum_{i = 1}^{n} \\xi_i (c - \\alpha_i - \\mu_i)\n",
    "\\end{align}\n",
    "\n",
    "for $\\alpha \\ge 0$, $\\mu \\ge 0$. This becomes our dual problem for optimization.  Note that this Lagrangian function is convex in our primal variables $(w, b, \\xi)$, but concave in our dual variables $(\\alpha, \\mu)$.  So our dual problem becomes:\n",
    "\n",
    "$\n",
    "\\max_{(\\alpha, \\mu) \\ge 0} \\min_{(w, b, \\xi)} \\mathcal{L} \\left( (w, b, \\xi), (\\alpha, \\mu) \\right)\n",
    "$\n",
    "\n",
    "This emerges from Von Neumann's Therom stating that the minimax and maximin problems are equivalent for a concave-convex function $\\mathcal{L}$.\n",
    "\n",
    "Differentiating this objective function with respect to $\\xi_i$ yields:\n",
    "\n",
    "$\n",
    "\\begin{align}\n",
    "\\frac{\\partial \\mathcal{L}}{\\partial \\xi_i} &= c - \\alpha_i - \\mu_i \\\\\n",
    "0 &= \\\\\n",
    "\\alpha_i &= c - \\mu_i \\\\\n",
    "\\alpha_i &\\le c\n",
    "\\end{align}\n",
    "$\n",
    "\n",
    "So we can frame this dual problem (with slackness) as putting an additional constrant on alpha.  So our problem becomes:\n",
    "\n",
    "$\n",
    "\\max_{\\alpha_i \\in [0, c] \\forall i} Q(\\alpha)\n",
    "$\n",
    "\n",
    "where:\n",
    "\n",
    "$\n",
    "\\begin{align}\n",
    "Q(\\alpha) &= \\min_{(w, b)} \\frac{1}{2} |w|^2 + \\sum_{i = 1}^{n} \\alpha_i \\left( 1 - y_i(\\langle x_i, w, \\rangle + b) \\right) \\\\\n",
    "&= \\sum_{i = 1}^{n} \\alpha_i - \\frac{1}{2}|\\sum_{i = 1}^{n} \\alpha_i y_i x_i| \\\\\n",
    "&= \\sum_{i = 1}^{n} \\alpha_i - \\sum_{i = 1}^{n} \\alpha_i \\alpha_j y_i y_j \\langle x_i x_j \\rangle\n",
    "\\end{align}\n",
    "$\n",
    "\n",
    "We can then use constrained coordinate ascent to compute to maximize $Q(\\alpha)$ over $\\alpha_k \\in [0, c]$ while fixing $\\alpha_i, i\\ne k$.  Differentiating $Q(\\alpha_k)$ with respect to $\\alpha_k$ and setting equal to 0 yields:\n",
    "\n",
    "$\n",
    "\\begin{align}\n",
    "0 &= -Q_{kk} \\alpha_k + 1 - \\sum_{i \\ne k} \\alpha_i Q_{ik} \\\\\n",
    "\\alpha_k^* &= \\frac{1 - \\sum_{i \\ne k} \\alpha_k Q_{ik}}{Q_{kk}}\n",
    "\\end{align}\n",
    "$\n",
    "\n",
    "where $Q_{ij} = y_i y_j \\langle x_i, x_j \\rangle$."
   ]
  },
  {
   "cell_type": "markdown",
   "metadata": {
    "id": "NAuvI6PAvYFG"
   },
   "source": [
    "(2): Code is below:"
   ]
  },
  {
   "cell_type": "code",
   "execution_count": 7,
   "metadata": {
    "id": "i4fqNemAcRRN"
   },
   "outputs": [],
   "source": [
    "def gauss_kernel(x, x_prime, gamma = 1):\n",
    "  return(np.exp(-gamma * np.dot(x - x_prime, x - x_prime)))\n",
    "\n",
    "def update_alpha(alpha, x, y, eps = 1e-6, maxiter = 1e3):\n",
    "  n = x.shape[0]\n",
    "  delta_alpha = 100 #arbitrary initialization\n",
    "  niter = 0\n",
    "  while (delta_alpha > eps and niter < maxiter):\n",
    "    prev_alpha = np.copy(alpha)\n",
    "    for k in np.arange(n):\n",
    "      Q_kk = y[k]**2 * gauss_kernel(x[k], x[k])\n",
    "      num = 1\n",
    "      for i in np.delete(np.arange(n), k):\n",
    "        num += -(alpha[i] * y[i] * y[k] * gauss_kernel(x[i], x[k]))\n",
    "      alpha_star = num / Q_kk\n",
    "      if alpha_star >= 0:\n",
    "        alpha[k] = alpha_star\n",
    "      else:\n",
    "        alpha[k] = 0\n",
    "    delta_alpha = np.dot(alpha - prev_alpha, alpha - prev_alpha)\n",
    "    niter += 1\n",
    "  return(alpha, niter)\n",
    "\n",
    "def my_SVM(x_train, y_train, x_test, b = 0, gamma = 1, maxiter = 1e3):\n",
    "  n_obs = x_train.shape[0]\n",
    "  n_test = x_test.shape[0]\n",
    "  p = x_train.shape[1]\n",
    "  if p != x_train.shape[1]:\n",
    "    print(\"Error: Dimension mismatch between training and testing data.\")\n",
    "    return\n",
    "  #Train SVM model:\n",
    "  alpha_init = np.ones(n_obs)\n",
    "  alpha_hat, n_iter = update_alpha(alpha_init, x_train, y_train, maxiter = maxiter)\n",
    "\n",
    "  pred = np.empty(n_test)\n",
    "  for i in np.arange(n_test):\n",
    "    tot = 0\n",
    "    for j in np.arange(n_obs):\n",
    "      tot += alpha_hat[j] * y_train[j] * gauss_kernel(x_train[j], x_test[i])\n",
    "    pred[i] = tot\n",
    "    pred = (pred > 0) * 2 - 1\n",
    "  return(pred, alpha_hat, n_iter)"
   ]
  },
  {
   "cell_type": "code",
   "execution_count": 8,
   "metadata": {
    "id": "BOWgKTbmINhO"
   },
   "outputs": [],
   "source": [
    "#Same simulated data from HW2:\n",
    "n = 100\n",
    "p = 2\n",
    "np.random.seed(42)\n",
    "x1 = np.random.uniform(low = 0, high = 1, size = n)\n",
    "x2 = np.random.uniform(low = 0, high = 1, size = n)\n",
    "X = np.c_[x1, x2]\n",
    "Y = (np.square(x1) + np.square(x2) <= np.ones(n)) * 2 - 1 #Y needs to be coded as -1/+1\n",
    "\n",
    "#Form dense grid of x's:\n",
    "grid_1 = np.repeat(np.linspace(0, 1, 51), 51)\n",
    "grid_2 = np.tile(np.linspace(0, 1, 51), 51)\n",
    "grid = np.c_[grid_1, grid_2]\n",
    "\n",
    "#Fit model:\n",
    "svm_fit = my_SVM(X, Y, grid, maxiter = 1000)"
   ]
  },
  {
   "cell_type": "code",
   "execution_count": 9,
   "metadata": {
    "colab": {
     "base_uri": "https://localhost:8080/",
     "height": 313
    },
    "id": "NBO5FVQ-OuIB",
    "outputId": "72558c11-e3a4-4c31-d12a-2ed415e0ced4"
   },
   "outputs": [
    {
     "data": {
      "text/plain": [
       "Text(0.5, 1.0, 'SVM Predictions Over Dense Grid')"
      ]
     },
     "execution_count": 9,
     "metadata": {},
     "output_type": "execute_result"
    },
    {
     "data": {
      "image/png": "[encoded data removed]",
      "text/plain": [
       "<Figure size 432x288 with 1 Axes>"
      ]
     },
     "metadata": {
      "needs_background": "light"
     },
     "output_type": "display_data"
    }
   ],
   "source": [
    "pred = svm_fit[0]\n",
    "\n",
    "plt.scatter(grid[pred == 1][:, 0], grid[pred == 1][:, 1])\n",
    "plt.scatter(grid[pred == -1][:, 0], grid[pred == -1][:, 1])\n",
    "plt.xlabel(\"X1\")\n",
    "plt.ylabel(\"X2\")\n",
    "plt.title(\"SVM Predictions Over Dense Grid\")"
   ]
  },
  {
   "cell_type": "markdown",
   "metadata": {
    "id": "fRFNneGXLJrd"
   },
   "source": [
    "We can see in the figure above that the SVM learns the unit circle boundary extremely well.  Comparison to the XGBoost performance in HW2 is difficult due to the simplicity of the decision boundary; both algorithms learn the boundary almost perfectly after relatively few iterations."
   ]
  }
 ],
 "metadata": {
  "colab": {
   "provenance": []
  },
  "kernelspec": {
   "display_name": "Python 3 (ipykernel)",
   "language": "python",
   "name": "python3"
  },
  "language_info": {
   "codemirror_mode": {
    "name": "ipython",
    "version": 3
   },
   "file_extension": ".py",
   "mimetype": "text/x-python",
   "name": "python",
   "nbconvert_exporter": "python",
   "pygments_lexer": "ipython3",
   "version": "3.9.7"
  }
 },
 "nbformat": 4,
 "nbformat_minor": 1
}
